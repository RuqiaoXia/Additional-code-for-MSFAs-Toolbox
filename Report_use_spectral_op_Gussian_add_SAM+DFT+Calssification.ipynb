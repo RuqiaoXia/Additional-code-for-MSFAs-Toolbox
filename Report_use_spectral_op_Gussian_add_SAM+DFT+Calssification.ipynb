{
 "cells": [
  {
   "cell_type": "markdown",
   "metadata": {},
   "source": [
    "# This notebook shows the optimization to find the best spectral bands for unmixing a set of endmember spectra from a hyperspectral cube."
   ]
  },
  {
   "cell_type": "code",
   "execution_count": 1,
   "metadata": {},
   "outputs": [
    {
     "name": "stdout",
     "output_type": "stream",
     "text": [
      "Populating the interactive namespace from numpy and matplotlib\n"
     ]
    }
   ],
   "source": [
    "%pylab inline\n",
    "from pysptools import abundance_maps\n",
    "import numpy\n",
    "from random import sample as randsamp\n",
    "import pandas as pd\n",
    "\n",
    "import random\n",
    "import urllib\n",
    "import itertools\n",
    "from scipy.io import loadmat\n",
    "from scipy.signal import convolve2d"
   ]
  },
  {
   "cell_type": "markdown",
   "metadata": {},
   "source": [
    "# Loading ref data"
   ]
  },
  {
   "cell_type": "code",
   "execution_count": 2,
   "metadata": {},
   "outputs": [],
   "source": [
    "def create_sythentic_hypercube(a_map, spectra, wavelength):\n",
    " \n",
    "    '''\n",
    "    Encodes a 2d image with spectral data to generate a synthetic hypercube.\n",
    "    \n",
    "    Inputs:\n",
    "        a_map (N x M x L array) - 3D abundance map of target. Each channel in L corresponds to the\n",
    "             abundance (between 0 and 1) of the spectral signature in the spectra array. \n",
    "             \n",
    "        spectra (L x Q array) - Array of 1D spectral respones for each pixel. Number of array members\n",
    "            should be equal to the maximum value in im (L). Q is sample points in wavelength space.\n",
    "            \n",
    "        wavelength (1 x Q array) - Array describing the wavelength value corresponding to the spectral\n",
    "            response arrays.\n",
    "    \n",
    "    Output:\n",
    "        hypercube (N X M x Q) - 3D synthetic hypercube.\n",
    "        \n",
    "        wavelength (1 x Q array) - Array describing the wavelength value corresponding to the spectral\n",
    "            dimension of the hypercube.\n",
    "    '''\n",
    "\n",
    "    N,M,_ = a_map.shape\n",
    "    L,Q = spectra.shape\n",
    "\n",
    "    hypercube = zeros((N,M,Q))\n",
    "    \n",
    "    for i in range(L):\n",
    "        hypercube += outer(a_map[:,:,i],spectra[i]).reshape((N,M,Q))\n",
    "\n",
    "    return hypercube, wavelength"
   ]
  },
  {
   "cell_type": "code",
   "execution_count": 3,
   "metadata": {},
   "outputs": [
    {
     "data": {
      "text/plain": [
       "(200, 200, 4)"
      ]
     },
     "execution_count": 3,
     "metadata": {},
     "output_type": "execute_result"
    }
   ],
   "source": [
    "# Load some example spectra and subsample.\n",
    "# Columns are: [wavelength, excitation, emission]\n",
    "af610 = pd.read_csv(\"../input/AF610.csv\").values[::5]\n",
    "af647 = pd.read_csv(\"../input/AF647.csv\").values[::5]\n",
    "af700 = pd.read_csv(\"../input/AF700.csv\").values[::5]\n",
    "af750 = pd.read_csv(\"../input/AF750.csv\").values[::5]\n",
    "\n",
    "wavelength = af610[:,0]\n",
    "spectra = array([af610[:,2],af647[:,2],af700[:,2],af750[:,2]])\n",
    "\n",
    "# Generate examples to use for GUI.\n",
    "a_map = ones((200,200,4))\n",
    "\n",
    "for i in range (4):\n",
    "    a_map[:,:,i] = array([uint16(imread(\"../input/USAF.png\")[69:, :1200, 3])])[0,::6,::6]\n",
    "spectra = array([af610[:,2],af647[:,2],af700[:,2],af750[:,2]])\n",
    "noise = rand(200,200,1)/5.\n",
    "\n",
    "a_map.shape"
   ]
  },
  {
   "cell_type": "code",
   "execution_count": 4,
   "metadata": {},
   "outputs": [
    {
     "data": {
      "text/plain": [
       "(4, 140)"
      ]
     },
     "execution_count": 4,
     "metadata": {},
     "output_type": "execute_result"
    }
   ],
   "source": [
    "spectra.shape"
   ]
  },
  {
   "cell_type": "code",
   "execution_count": 5,
   "metadata": {},
   "outputs": [],
   "source": [
    "a_map = a_map[20:50,20:50,:]\n",
    "\n",
    "hypercube,wavelength = create_sythentic_hypercube(a_map,spectra,wavelength)\n",
    "N,M,P = hypercube.shape\n",
    "\n"
   ]
  },
  {
   "cell_type": "code",
   "execution_count": 6,
   "metadata": {},
   "outputs": [
    {
     "data": {
      "text/plain": [
       "(30, 30, 140)"
      ]
     },
     "execution_count": 6,
     "metadata": {},
     "output_type": "execute_result"
    }
   ],
   "source": [
    "hypercube.shape"
   ]
  },
  {
   "cell_type": "code",
   "execution_count": 7,
   "metadata": {},
   "outputs": [
    {
     "data": {
      "text/plain": [
       "(140,)"
      ]
     },
     "execution_count": 7,
     "metadata": {},
     "output_type": "execute_result"
    }
   ],
   "source": [
    "wavelength.shape"
   ]
  },
  {
   "cell_type": "code",
   "execution_count": null,
   "metadata": {},
   "outputs": [],
   "source": []
  },
  {
   "cell_type": "code",
   "execution_count": 8,
   "metadata": {},
   "outputs": [
    {
     "data": {
      "text/plain": [
       "125.84873178000001"
      ]
     },
     "execution_count": 8,
     "metadata": {},
     "output_type": "execute_result"
    }
   ],
   "source": [
    "max(hypercube[20,10,:])"
   ]
  },
  {
   "cell_type": "code",
   "execution_count": 9,
   "metadata": {},
   "outputs": [
    {
     "data": {
      "text/plain": [
       "<matplotlib.image.AxesImage at 0x7fac910f7be0>"
      ]
     },
     "execution_count": 9,
     "metadata": {},
     "output_type": "execute_result"
    },
    {
     "data": {
      "image/png": "[encoded data removed]",
      "text/plain": [
       "<Figure size 720x720 with 1 Axes>"
      ]
     },
     "metadata": {
      "needs_background": "light"
     },
     "output_type": "display_data"
    }
   ],
   "source": [
    "plt.figure(figsize=(10,10))\n",
    "\n",
    "subplot(3,4,1)\n",
    "imshow(a_map[:,:,0],cmap=cm.gray)\n",
    "\n",
    "\n"
   ]
  },
  {
   "cell_type": "code",
   "execution_count": 11,
   "metadata": {},
   "outputs": [],
   "source": [
    "hypercube += rand(N,M,P)*20"
   ]
  },
  {
   "cell_type": "code",
   "execution_count": 12,
   "metadata": {},
   "outputs": [
    {
     "data": {
      "text/plain": [
       "[<matplotlib.lines.Line2D at 0x7fac91be6910>]"
      ]
     },
     "execution_count": 12,
     "metadata": {},
     "output_type": "execute_result"
    },
    {
     "data": {
      "image/png": "[encoded data removed]",
      "text/plain": [
       "<Figure size 432x288 with 1 Axes>"
      ]
     },
     "metadata": {
      "needs_background": "light"
     },
     "output_type": "display_data"
    }
   ],
   "source": [
    "plot(wavelength,hypercube[10,10,:])"
   ]
  },
  {
   "cell_type": "markdown",
   "metadata": {},
   "source": [
    "# some optional merit functions"
   ]
  },
  {
   "cell_type": "code",
   "execution_count": 13,
   "metadata": {},
   "outputs": [],
   "source": [
    "def create_sythentic_hypercube(a_map, spectra, wavelength):\n",
    " \n",
    "    '''\n",
    "    Encodes a 2d image with spectral data to generate a synthetic hypercube.\n",
    "    \n",
    "    Inputs:\n",
    "        a_map (N x M x L array) - 3D abundance map of target. Each channel in L corresponds to the\n",
    "             abundance (between 0 and 1) of the spectral signature in the spectra array. \n",
    "             \n",
    "        spectra (L x Q array) - Array of 1D spectral respones for each pixel. Number of array members\n",
    "            should be equal to the maximum value in im (L). Q is sample points in wavelength space.\n",
    "            \n",
    "        wavelength (1 x Q array) - Array describing the wavelength value corresponding to the spectral\n",
    "            response arrays.\n",
    "    \n",
    "    Output:\n",
    "        hypercube (N X M x Q) - 3D synthetic hypercube.\n",
    "        \n",
    "        wavelength (1 x Q array) - Array describing the wavelength value corresponding to the spectral\n",
    "            dimension of the hypercube.\n",
    "    '''\n",
    "\n",
    "    N,M,_ = a_map.shape\n",
    "    L,Q = spectra.shape\n",
    "\n",
    "    hypercube = zeros((N,M,Q))\n",
    "    \n",
    "    for i in range(L):\n",
    "        hypercube += outer(a_map[:,:,i],spectra[i]).reshape((N,M,Q))\n",
    "\n",
    "    return hypercube, wavelength"
   ]
  },
  {
   "cell_type": "code",
   "execution_count": 34,
   "metadata": {},
   "outputs": [],
   "source": [
    "def compute_hypercube_reconstruction_accuracy_RMSE(hypercube, abundance_map, endmembers, wavelength, center_wavelengths, bandwidths, return_predicted=False):\n",
    "    '''\n",
    "    Function to compute unmixing accuracy using NNLS spectral unmixing given a set of spectral band \n",
    "    center wavelengths and bandwidths. Assuming gaussian filter responses with a bandwidth defined\n",
    "    as the FWHM.\n",
    "    \n",
    "    Inputs:\n",
    "        hypercube (N X M x Q) - 3D synthetic hypercube.\n",
    "        \n",
    "        abundance_map (N x M x P)- 3D ground-truth abundance map of target. Each channel in L corresponds to the\n",
    "             abundance (between 0 and 1) of the spectral signature in the spectra array. \n",
    "        \n",
    "        endmembers (P x Q array) - Array of endmember signals to unmix.\n",
    "        \n",
    "        wavelength (1 x Q array) - Array describing the wavelength value corresponding to the spectral\n",
    "            response arrays.\n",
    "        \n",
    "        center_wavelengths (1 x L array) - Array or list of center wavelengths for Gaussian filter responses\n",
    "            to use for unmixing.\n",
    "        \n",
    "        bandwidths (1 x L array) - Array or list of bandwidths for Gaussian filter responses\n",
    "            to use for unmixing.\n",
    "        \n",
    "    Outputs:\n",
    "        accuracy (float) - RMS error of the unmixed abundance compared to the gruond truth\n",
    "        \n",
    "        predicted (optional N x M x P array) - Predicted abundance map of hypercube\n",
    "    '''\n",
    "    # Extract relevant dimensions\n",
    "    N,M,Q = hypercube.shape\n",
    "    \n",
    "    # Define filter responses\n",
    "    filters = [exp(-(wavelength - center_wavelengths[i])**2 / (2*(bandwidths[i]/2.355)**2)) for i in range(len(center_wavelengths))]\n",
    "    \n",
    "    P = len(endmembers)\n",
    "    L = len(filters)\n",
    "    \n",
    "    # Pre-allocate arrays\n",
    "    data_sig = zeros((N*M,L))\n",
    "    endmember_sig = zeros((P,L))\n",
    "    \n",
    "    # Iterate through each filter\n",
    "    for i,f in enumerate(filters):\n",
    "        # Compute the signal from each filter received from the data\n",
    "        # and that received from an endmember.\n",
    "        data_sig[:,i] = sum(hypercube.reshape((N*M,Q))*f,axis=1) # (N*M) x L\n",
    "        \n",
    "        for j, e in enumerate(endmembers):\n",
    "            endmember_sig[j,i] = sum(endmembers[j]*f) # P x Q\n",
    "            \n",
    "    # Reshape the data array into 1d array\n",
    "    predicted = abundance_maps.amaps.NNLS(data_sig, endmember_sig) # (N*M x P)\n",
    "    \n",
    "    predicted = predicted.reshape(N,M,P)\n",
    "\n",
    "    pred_hypercube,_ = create_sythentic_hypercube(predicted, endmembers, wavelength)\n",
    "    \n",
    "    # Take RMS difference between true abundance map and computed.\n",
    "    accuracy = sqrt(mean((pred_hypercube-hypercube)**2))\n",
    "    \n",
    "    if not accuracy or isnan(accuracy):\n",
    "        return 100.\n",
    "    \n",
    "    if return_predicted:\n",
    "        return accuracy, predicted.reshape((N,M,P))\n",
    "    else:\n",
    "        return accuracy"
   ]
  },
  {
   "cell_type": "code",
   "execution_count": 35,
   "metadata": {},
   "outputs": [],
   "source": [
    "from scipy.fft import fft, ifft\n",
    "import numpy as np\n",
    "\n",
    "def compute_hypercube_reconstruction_accuracy_DFT(hypercube, abundance_map, endmembers, wavelength, center_wavelengths, bandwidths, return_predicted=False):\n",
    "    '''\n",
    "    Function to compute unmixing accuracy using NNLS spectral unmixing given a set of spectral band \n",
    "    center wavelengths and bandwidths. Assuming gaussian filter responses with a bandwidth defined\n",
    "    as the FWHM.\n",
    "    \n",
    "    Inputs:\n",
    "        hypercube (N X M x Q) - 3D synthetic hypercube.\n",
    "        \n",
    "        abundance_map (N x M x P)- 3D ground-truth abundance map of target. Each channel in L corresponds to the\n",
    "             abundance (between 0 and 1) of the spectral signature in the spectra array. \n",
    "        \n",
    "        endmembers (P x Q array) - Array of endmember signals to unmix.\n",
    "        \n",
    "        wavelength (1 x Q array) - Array describing the wavelength value corresponding to the spectral\n",
    "            response arrays.\n",
    "        \n",
    "        center_wavelengths (1 x L array) - Array or list of center wavelengths for Gaussian filter responses\n",
    "            to use for unmixing.\n",
    "        \n",
    "        bandwidths (1 x L array) - Array or list of bandwidths for Gaussian filter responses\n",
    "            to use for unmixing.\n",
    "        \n",
    "    Outputs:\n",
    "        accuracy (float) - RMS error of the unmixed abundance compared to the gruond truth\n",
    "        \n",
    "        predicted (optional N x M x P array) - Predicted abundance map of hypercube\n",
    "    '''\n",
    "    # Extract relevant dimensions\n",
    "    N,M,Q = hypercube.shape\n",
    "    \n",
    "    # Define filter responses\n",
    "    filters = [exp(-(wavelength - center_wavelengths[i])**2 / (2*(bandwidths[i]/2.355)**2)) for i in range(len(center_wavelengths))]\n",
    "    \n",
    "    P = len(endmembers)\n",
    "    L = len(filters)\n",
    "    \n",
    "    # Pre-allocate arrays\n",
    "    data_sig = zeros((N*M,L))\n",
    "    endmember_sig = zeros((P,L))\n",
    "    \n",
    "    # Iterate through each filter\n",
    "    for i,f in enumerate(filters):\n",
    "        # Compute the signal from each filter received from the data\n",
    "        # and that received from an endmember.\n",
    "        data_sig[:,i] = sum(hypercube.reshape((N*M,Q))*f,axis=1) # (N*M) x L\n",
    "        \n",
    "        for j, e in enumerate(endmembers):\n",
    "            endmember_sig[j,i] = sum(endmembers[j]*f) # P x Q\n",
    "            \n",
    "    # Reshape the data array into 1d array\n",
    "    predicted = abundance_maps.amaps.NNLS(data_sig, endmember_sig) # (N*M x P)\n",
    "    \n",
    "    predicted = predicted.reshape(N,M,P)\n",
    "\n",
    "    pred_hypercube,_ = create_sythentic_hypercube(predicted, endmembers, wavelength)\n",
    "    \n",
    "    xf = fft(hypercube)\n",
    "    yf = fft(pred_hypercube)\n",
    "\n",
    "    \n",
    "    # Take real part RMS difference between true abundance map and computed in DFT  space.\n",
    "    accuracy = sqrt(mean((np.real(yf-xf))**2))\n",
    "    \n",
    "    \n",
    "    if not accuracy or isnan(accuracy):\n",
    "        return 100.\n",
    "    \n",
    "    if return_predicted:\n",
    "        return accuracy, predicted.reshape((N,M,P))\n",
    "    else:\n",
    "        return accuracy"
   ]
  },
  {
   "cell_type": "code",
   "execution_count": 36,
   "metadata": {},
   "outputs": [],
   "source": [
    "from  pysptools import distance\n",
    "\n",
    "def compute_hypercube_reconstruction_accuracy_SAM(hypercube, abundance_map, endmembers, wavelength, center_wavelengths, bandwidths, return_predicted=False):\n",
    "    '''\n",
    "    Function to compute unmixing accuracy using NNLS spectral unmixing given a set of spectral band \n",
    "    center wavelengths and bandwidths. Assuming gaussian filter responses with a bandwidth defined\n",
    "    as the FWHM.\n",
    "    \n",
    "    Inputs:\n",
    "        hypercube (N X M x Q) - 3D synthetic hypercube.\n",
    "        \n",
    "        abundance_map (N x M x P)- 3D ground-truth abundance map of target. Each channel in L corresponds to the\n",
    "             abundance (between 0 and 1) of the spectral signature in the spectra array. \n",
    "        \n",
    "        endmembers (P x Q array) - Array of endmember signals to unmix.\n",
    "        \n",
    "        wavelength (1 x Q array) - Array describing the wavelength value corresponding to the spectral\n",
    "            response arrays.\n",
    "        \n",
    "        center_wavelengths (1 x L array) - Array or list of center wavelengths for Gaussian filter responses\n",
    "            to use for unmixing.\n",
    "        \n",
    "        bandwidths (1 x L array) - Array or list of bandwidths for Gaussian filter responses\n",
    "            to use for unmixing.\n",
    "        \n",
    "    Outputs:\n",
    "        accuracy (float) - RMS error of the unmixed abundance compared to the gruond truth\n",
    "        \n",
    "        predicted (optional N x M x P array) - Predicted abundance map of hypercube\n",
    "    '''\n",
    "    # Extract relevant dimensions\n",
    "    N,M,Q = hypercube.shape\n",
    "    \n",
    "    # Define filter responses\n",
    "    filters = [exp(-(wavelength - center_wavelengths[i])**2 / (2*(bandwidths[i]/2.355)**2)) for i in range(len(center_wavelengths))]\n",
    "    \n",
    "    P = len(endmembers)\n",
    "    L = len(filters)\n",
    "    \n",
    "    # Pre-allocate arrays\n",
    "    data_sig = zeros((N*M,L))\n",
    "    endmember_sig = zeros((P,L))\n",
    "    \n",
    "    # Iterate through each filter\n",
    "    for i,f in enumerate(filters):\n",
    "        # Compute the signal from each filter received from the data\n",
    "        # and that received from an endmember.\n",
    "        data_sig[:,i] = sum(hypercube.reshape((N*M,Q))*f,axis=1) # (N*M) x L\n",
    "        \n",
    "        for j, e in enumerate(endmembers):\n",
    "            endmember_sig[j,i] = sum(endmembers[j]*f) # P x Q\n",
    "            \n",
    "    # Reshape the data array into 1d array\n",
    "    predicted = abundance_maps.amaps.NNLS(data_sig, endmember_sig) # (N*M x P)\n",
    "    \n",
    "    predicted = predicted.reshape(N,M,P)\n",
    "\n",
    "    pred_hypercube,_ = create_sythentic_hypercube(predicted, endmembers, wavelength)\n",
    "\n",
    "    map_sam = zeros((N,M))\n",
    "    for i in range(N):\n",
    "        for j in range (M):\n",
    "            y_true = pred_hypercube[i,j,:]\n",
    "            y_pred = hypercube[i,j,:]\n",
    "            map_sam[i,j] = distance.SAM(y_true,y_pred)\n",
    "    \n",
    "    # Take overall SAM.\n",
    "    accuracy = mean(map_sam)\n",
    "    \n",
    "    if not accuracy or isnan(accuracy):\n",
    "        return 100.\n",
    "    \n",
    "    if return_predicted:\n",
    "        return accuracy, predicted.reshape((N,M,P))\n",
    "    else:\n",
    "        return accuracy"
   ]
  },
  {
   "cell_type": "code",
   "execution_count": 14,
   "metadata": {},
   "outputs": [],
   "source": [
    "def compute_unmixing_accuracy(hypercube, abundance_map, endmembers, wavelength, center_wavelengths, bandwidths, return_predicted=False):\n",
    "    '''\n",
    "    Function to compute unmixing accuracy using NNLS spectral unmixing given a set of spectral band \n",
    "    center wavelengths and bandwidths. Assuming gaussian filter responses with a bandwidth defined\n",
    "    as the FWHM.\n",
    "    \n",
    "    Inputs:\n",
    "        hypercube (N X M x Q) - 3D synthetic hypercube.\n",
    "        \n",
    "        abundance_map (N x M x P)- 3D ground-truth abundance map of target. Each channel in L corresponds to the\n",
    "             abundance (between 0 and 1) of the spectral signature in the spectra array. \n",
    "        \n",
    "        endmembers (P x Q array) - Array of endmember signals to unmix.\n",
    "        \n",
    "        wavelength (1 x Q array) - Array describing the wavelength value corresponding to the spectral\n",
    "            response arrays.\n",
    "        \n",
    "        center_wavelengths (1 x L array) - Array or list of center wavelengths for Gaussian filter responses\n",
    "            to use for unmixing.\n",
    "        \n",
    "        bandwidths (1 x L array) - Array or list of bandwidths for Gaussian filter responses\n",
    "            to use for unmixing.\n",
    "        \n",
    "    Outputs:\n",
    "        accuracy (float) - RMS error of the unmixed abundance compared to the gruond truth\n",
    "        \n",
    "        predicted (optional N x M x P array) - Predicted abundance map of hypercube\n",
    "    '''\n",
    "    # Extract relevant dimensions\n",
    "    N,M,Q = hypercube.shape\n",
    "    \n",
    "    # Define filter responses\n",
    "    filters = [exp(-(wavelength - center_wavelengths[i])**2 / (2*(bandwidths[i]/2.355)**2)) for i in range(len(center_wavelengths))]\n",
    "    \n",
    "    P = len(endmembers)\n",
    "    L = len(filters)\n",
    "    \n",
    "    # Pre-allocate arrays\n",
    "    data_sig = zeros((N*M,L))\n",
    "    endmember_sig = zeros((P,L))\n",
    "    \n",
    "    # Iterate through each filter\n",
    "    for i,f in enumerate(filters):\n",
    "        # Compute the signal from each filter received from the data\n",
    "        # and that received from an endmember.\n",
    "        data_sig[:,i] = sum(hypercube.reshape((N*M,Q))*f,axis=1) # (N*M) x L\n",
    "        \n",
    "        for j, e in enumerate(endmembers):\n",
    "            endmember_sig[j,i] = sum(endmembers[j]*f) # P x Q\n",
    "            \n",
    "    # Reshape the data array into 1d array\n",
    "    predicted = abundance_maps.amaps.NNLS(data_sig, endmember_sig) # (N*M x P)\n",
    "\n",
    "    # Take RMS difference between true abundance map and computed.\n",
    "    accuracy = sqrt(mean((abundance_map.reshape((N*M,len(endmember_sig)))-predicted)**2))\n",
    "    \n",
    "    if not accuracy or isnan(accuracy):\n",
    "        return 100.\n",
    "    \n",
    "    if return_predicted:\n",
    "        return accuracy, predicted.reshape((N,M,P))\n",
    "    else:\n",
    "        return accuracy"
   ]
  },
  {
   "cell_type": "code",
   "execution_count": 38,
   "metadata": {},
   "outputs": [],
   "source": [
    "def intensity_recieved(hypercube,opti_bw, opti_wavelength,wavelength, verbose=False):\n",
    "    \n",
    "    '''\n",
    "    Inputs:\n",
    "        1) hypercube (N X M x Q) - 3D synthetic hypercube.\n",
    "        2) bandwidth\n",
    "        3) wavelength\n",
    "        4) number of block (mxXny)\n",
    "        5) number of filter \n",
    "    \n",
    "    \n",
    "        ranking depends on three factor: \n",
    "        1) Total area of each filter \n",
    "        2) The total intensity recieved by this chanel \n",
    "        \n",
    "    Output:\n",
    "         a matrix with wavelength, bandwidth, intensity recieved followed the input sequence\n",
    "\n",
    "        \n",
    "    '''\n",
    "    # preparation\n",
    "    filter_number = len(opti_wavelength)\n",
    "    N,M,Q = hypercube.shape\n",
    "    hypercube = hypercube.reshape(N*M,Q)\n",
    "    Intensity_recieved = zeros((N*M,Q))\n",
    "    #number_of_filter \n",
    "    L = len(opti_wavelength)\n",
    "    filters = []\n",
    "    \n",
    "    #matrxi for wavelength and bw, intensity, ranked by intensity\n",
    "    matrix = zeros((L,3))\n",
    "    matrix[:,0] = opti_wavelength\n",
    "    matrix[:,1] = opti_bw\n",
    "\n",
    "    # Define filter responses, add them together, not a elegant way, should improve it later\n",
    "    filters = [exp(-(wavelength - opti_wavelength[i])**2 / (2*(opti_bw[i]/2.355)**2)) for i in range(len(opti_wavelength))]\n",
    "       \n",
    "    \n",
    " \n",
    "    #print(hypercube[1].shape)\n",
    "    #print(filters[0].shape)\n",
    "    #plot(wavelength,filters[0],color= 'blue')\n",
    "    \n",
    "    #print(np.dot(hypercube[1],filters[1]))\n",
    "    \n",
    "    #intensity factor\n",
    "    for m in range(0,L):\n",
    "        for n in range(0,N*M):\n",
    "            Intensity_recieved[n,m]=np.dot(hypercube[n],filters[m])\n",
    "        sum_over_spectra = Intensity_recieved.sum(1)\n",
    "        \n",
    "        sum_over_pixel = sum_over_spectra.sum()\n",
    "        matrix[m,2] = sum_over_pixel\n",
    "\n",
    "\n",
    "    return matrix"
   ]
  },
  {
   "cell_type": "code",
   "execution_count": 39,
   "metadata": {},
   "outputs": [],
   "source": [
    "def compute_unmixing_weighted_accuracy(hypercube, abundance_map, endmembers, wavelength, center_wavelengths, bandwidths, return_predicted=False):\n",
    "    '''\n",
    "    Function to compute unmixing accuracy using NNLS spectral unmixing given a set of spectral band \n",
    "    center wavelengths and bandwidths. Assuming gaussian filter responses with a bandwidth defined\n",
    "    as the FWHM.\n",
    "    \n",
    "    Inputs:\n",
    "        hypercube (N X M x Q) - 3D synthetic hypercube.\n",
    "        \n",
    "        abundance_map (N x M x P)- 3D ground-truth abundance map of target. Each channel in L corresponds to the\n",
    "             abundance (between 0 and 1) of the spectral signature in the spectra array. \n",
    "        \n",
    "        endmembers (P x Q array) - Array of endmember signals to unmix.\n",
    "        \n",
    "        wavelength (1 x Q array) - Array describing the wavelength value corresponding to the spectral\n",
    "            response arrays.\n",
    "        \n",
    "        center_wavelengths (1 x L array) - Array or list of center wavelengths for Gaussian filter responses\n",
    "            to use for unmixing.\n",
    "        \n",
    "        bandwidths (1 x L array) - Array or list of bandwidths for Gaussian filter responses\n",
    "            to use for unmixing.\n",
    "        \n",
    "    Outputs:\n",
    "        accuracy (float) - RMS error of the unmixed abundance compared to the gruond truth\n",
    "        \n",
    "        predicted (optional N x M x P array) - Predicted abundance map of hypercube\n",
    "    '''\n",
    "    # Extract relevant dimensions\n",
    "    N,M,Q = hypercube.shape\n",
    "    \n",
    "    # Define filter responses\n",
    "    filters = [exp(-(wavelength - center_wavelengths[i])**2 / (2*(bandwidths[i]/2.355)**2)) for i in range(len(center_wavelengths))]\n",
    "    \n",
    "    P = len(endmembers)\n",
    "    L = len(filters)\n",
    "    \n",
    "    # Pre-allocate arrays\n",
    "    data_sig = zeros((N*M,L))\n",
    "    endmember_sig = zeros((P,L))\n",
    "    \n",
    "    \n",
    "    # Iterate through each filter\n",
    "    for i,f in enumerate(filters):\n",
    "        # Compute the signal from each filter received from the data\n",
    "        # and that received from an endmember.\n",
    "        data_sig[:,i] = sum(hypercube.reshape((N*M,Q))*f,axis=1) # (N*M) x L\n",
    "        for j, e in enumerate(endmembers):\n",
    "            endmember_sig[j,i] = sum(endmembers[j]*f) # P x Q\n",
    "\n",
    "            \n",
    "    # Reshape the data array into 1d array\n",
    "    predicted = abundance_maps.amaps.NNLS(data_sig, endmember_sig) # (N*M x P)\n",
    "    \n",
    "    ranked = intensity_recieved(hypercube,bandwidths, center_wavelengths,wavelength, verbose=False)\n",
    "    weight_sq_before_normalized = (ranked[:,2])\n",
    "    weight = sqrt(weight_sq_before_normalized/sum(weight_sq_before_normalized))\n",
    "\n",
    "    # Take RMS difference between true abundance map and computed.\n",
    "    difference = abundance_map.reshape((N*M,len(endmember_sig)))-predicted\n",
    "    \n",
    "    for k in range(0,L):\n",
    "        weight_difference = difference[:,k]* weight[k] \n",
    "        \n",
    "    \n",
    "    accuracy = sqrt(mean((weight_difference)**2))\n",
    "    \n",
    "    if not accuracy or isnan(accuracy):\n",
    "        return 100.\n",
    "    \n",
    "    if return_predicted:\n",
    "        return accuracy, predicted.reshape((N,M,P))\n",
    "    else:\n",
    "        return accuracy"
   ]
  },
  {
   "cell_type": "code",
   "execution_count": 40,
   "metadata": {},
   "outputs": [],
   "source": [
    "def compute_unmixing_map_weighted_accuracy(hypercube, abundance_map, endmembers, wavelength, center_wavelengths, bandwidths, return_predicted=False):\n",
    "    '''\n",
    "    Function to compute unmixing accuracy using NNLS spectral unmixing given a set of spectral band \n",
    "    center wavelengths and bandwidths. Assuming gaussian filter responses with a bandwidth defined\n",
    "    as the FWHM.\n",
    "    \n",
    "    Inputs:\n",
    "        hypercube (N X M x Q) - 3D synthetic hypercube.\n",
    "        \n",
    "        abundance_map (N x M x P)- 3D ground-truth abundance map of target. Each channel in L corresponds to the\n",
    "             abundance (between 0 and 1) of the spectral signature in the spectra array. \n",
    "        \n",
    "        endmembers (P x Q array) - Array of endmember signals to unmix.\n",
    "        \n",
    "        wavelength (1 x Q array) - Array describing the wavelength value corresponding to the spectral\n",
    "            response arrays.\n",
    "        \n",
    "        center_wavelengths (1 x L array) - Array or list of center wavelengths for Gaussian filter responses\n",
    "            to use for unmixing.\n",
    "        \n",
    "        bandwidths (1 x L array) - Array or list of bandwidths for Gaussian filter responses\n",
    "            to use for unmixing.\n",
    "        \n",
    "    Outputs:\n",
    "        accuracy (float) - RMS error of the unmixed abundance compared to the gruond truth\n",
    "        \n",
    "        predicted (optional N x M x P array) - Predicted abundance map of hypercube\n",
    "    '''\n",
    "    # Extract relevant dimensions\n",
    "    N,M,Q = hypercube.shape\n",
    "    \n",
    "    # Define filter responses\n",
    "    filters = [exp(-(wavelength - center_wavelengths[i])**2 / (2*(bandwidths[i]/2.355)**2)) for i in range(len(center_wavelengths))]\n",
    "    \n",
    "    P = len(endmembers)\n",
    "    L = len(filters)\n",
    "    \n",
    "    # Pre-allocate arrays\n",
    "    data_sig = zeros((N*M,L))\n",
    "    endmember_sig = zeros((P,L))\n",
    "    \n",
    "    \n",
    "    # Iterate through each filter\n",
    "    for i,f in enumerate(filters):\n",
    "        # Compute the signal from each filter received from the data\n",
    "        # and that received from an endmember.\n",
    "        data_sig[:,i] = sum(hypercube.reshape((N*M,Q))*f,axis=1) # (N*M) x L\n",
    "        for j, e in enumerate(endmembers):\n",
    "            endmember_sig[j,i] = sum(endmembers[j]*f) # P x Q\n",
    "\n",
    "            \n",
    "    # Reshape the data array into 1d array\n",
    "    predicted = abundance_maps.amaps.NNLS(data_sig, endmember_sig) # (N*M x P)\n",
    "\n",
    "    # Take RMS difference between true abundance map and computed.\n",
    "    difference = abundance_map.reshape((N*M,len(endmember_sig)))-predicted\n",
    "    \n",
    "    for k in range(0,L):\n",
    "        # w\n",
    "        weight = sqrt(mean(difference[:,k])**2)\n",
    "        # w*x\n",
    "        weight_difference = difference[:,k]* weight[k]\n",
    "    \n",
    "    accuracy = sqrt(mean((weight_difference)**2))\n",
    "    \n",
    "    if not accuracy or isnan(accuracy):\n",
    "        return 100.\n",
    "    \n",
    "    if return_predicted:\n",
    "        return accuracy, predicted.reshape((N,M,P))\n",
    "    else:\n",
    "        return accuracy"
   ]
  },
  {
   "cell_type": "code",
   "execution_count": 41,
   "metadata": {},
   "outputs": [],
   "source": [
    "from scipy.stats import entropy\n",
    "\n",
    "def compute_unmixing_accuracy_entropy_first_option(hypercube, abundance_map, endmembers, wavelength, center_wavelengths, bandwidths, return_predicted=False):\n",
    "    '''\n",
    "    Function to compute unmixing accuracy using NNLS spectral unmixing given a set of spectral band \n",
    "    center wavelengths and bandwidths. Assuming gaussian filter responses with a bandwidth defined\n",
    "    as the FWHM.\n",
    "    \n",
    "    Inputs:\n",
    "        hypercube (N X M x Q) - 3D synthetic hypercube.\n",
    "        \n",
    "        abundance_map (N x M x P)- 3D ground-truth abundance map of target. Each channel in L corresponds to the\n",
    "             abundance (between 0 and 1) of the spectral signature in the spectra array. \n",
    "        \n",
    "        endmembers (P x Q array) - Array of endmember signals to unmix.\n",
    "        \n",
    "        wavelength (1 x Q array) - Array describing the wavelength value corresponding to the spectral\n",
    "            response arrays.\n",
    "        \n",
    "        center_wavelengths (1 x L array) - Array or list of center wavelengths for Gaussian filter responses\n",
    "            to use for unmixing.\n",
    "        \n",
    "        bandwidths (1 x L array) - Array or list of bandwidths for Gaussian filter responses\n",
    "            to use for unmixing.\n",
    "        \n",
    "    Outputs:\n",
    "        accuracy (float) - RMS error of the unmixed abundance compared to the gruond truth\n",
    "        \n",
    "        predicted (optional N x M x P array) - Predicted abundance map of hypercube\n",
    "    '''\n",
    "    # Extract relevant dimensions\n",
    "    N,M,Q = hypercube.shape\n",
    "    \n",
    "    # Define filter responses\n",
    "    filters = [exp(-(wavelength - center_wavelengths[i])**2 / (2*(bandwidths[i]/2.355)**2)) for i in range(len(center_wavelengths))]\n",
    "    \n",
    "    P = len(endmembers)\n",
    "    L = len(filters)\n",
    "    \n",
    "    # Pre-allocate arrays\n",
    "    data_sig = zeros((N*M,L))\n",
    "    endmember_sig = zeros((P,L))\n",
    "    \n",
    "    # Iterate through each filter\n",
    "    for i,f in enumerate(filters):\n",
    "        # Compute the signal from each filter received from the data\n",
    "        # and that received from an endmember.\n",
    "        data_sig[:,i] = sum(hypercube.reshape((N*M,Q))*f,axis=1) # (N*M) x L\n",
    "        \n",
    "        for j, e in enumerate(endmembers):\n",
    "            endmember_sig[j,i] = sum(endmembers[j]*f) # P x Q\n",
    "            \n",
    "    # Reshape the data array into 1d array\n",
    "    predicted = abundance_maps.amaps.NNLS(data_sig, endmember_sig) # (N*M x P)\n",
    "\n",
    "    # Take entropy between true abundance map and predicted abundance map.\n",
    "    x = predicted\n",
    "    y = abundance_map.reshape((N*M,len(endmember_sig)))\n",
    "    difference =  numpy.absolute((x - y))\n",
    "    \n",
    "    #assume the difference followes the guassian distributioin\n",
    "    #standard div = 0.5, this is a parameter change with dataset, 0.5 for the simple gussian dataset\n",
    "    #/. not a good assumption, should think it later\n",
    "    \n",
    "    sigma = 0.5\n",
    "    p = exp(-(difference)**2/(2*sigma**2))\n",
    "\n",
    "    acc = entropy([p,1-p], base=2)\n",
    "    \n",
    "    accuracy = acc.sum(axis=0)\n",
    "    accuracy = accuracy.sum()\n",
    "\n",
    "    \n",
    "    if return_predicted:\n",
    "        return accuracy, predicted.reshape((N,M,P))\n",
    "    else:\n",
    "        return accuracy"
   ]
  },
  {
   "cell_type": "code",
   "execution_count": 42,
   "metadata": {},
   "outputs": [],
   "source": [
    "from scipy.stats import entropy\n",
    "\n",
    "def compute_unmixing_accuracy_entropy_second_option(hypercube, abundance_map, endmembers, wavelength, center_wavelengths, bandwidths, return_predicted=False):\n",
    "    '''\n",
    "    Function to compute unmixing accuracy using NNLS spectral unmixing given a set of spectral band \n",
    "    center wavelengths and bandwidths. Assuming gaussian filter responses with a bandwidth defined\n",
    "    as the FWHM.\n",
    "    \n",
    "    Inputs:\n",
    "        hypercube (N X M x Q) - 3D synthetic hypercube.\n",
    "        \n",
    "        abundance_map (N x M x P)- 3D ground-truth abundance map of target. Each channel in L corresponds to the\n",
    "             abundance (between 0 and 1) of the spectral signature in the spectra array. \n",
    "        \n",
    "        endmembers (P x Q array) - Array of endmember signals to unmix.\n",
    "        \n",
    "        wavelength (1 x Q array) - Array describing the wavelength value corresponding to the spectral\n",
    "            response arrays.\n",
    "        \n",
    "        center_wavelengths (1 x L array) - Array or list of center wavelengths for Gaussian filter responses\n",
    "            to use for unmixing.\n",
    "        \n",
    "        bandwidths (1 x L array) - Array or list of bandwidths for Gaussian filter responses\n",
    "            to use for unmixing.\n",
    "        \n",
    "    Outputs:\n",
    "        accuracy (float) - RMS error of the unmixed abundance compared to the gruond truth\n",
    "        \n",
    "        predicted (optional N x M x P array) - Predicted abundance map of hypercube\n",
    "    '''\n",
    "    # Extract relevant dimensions\n",
    "    N,M,Q = hypercube.shape\n",
    "    \n",
    "    # Define filter responses\n",
    "    filters = [exp(-(wavelength - center_wavelengths[i])**2 / (2*(bandwidths[i]/2.355)**2)) for i in range(len(center_wavelengths))]\n",
    "    \n",
    "    P = len(endmembers)\n",
    "    L = len(filters)\n",
    "    \n",
    "    # Pre-allocate arrays\n",
    "    data_sig = zeros((N*M,L))\n",
    "    endmember_sig = zeros((P,L))\n",
    "    \n",
    "    # Iterate through each filter\n",
    "    for i,f in enumerate(filters):\n",
    "        # Compute the signal from each filter received from the data\n",
    "        # and that received from an endmember.\n",
    "        data_sig[:,i] = sum(hypercube.reshape((N*M,Q))*f,axis=1) # (N*M) x L\n",
    "        \n",
    "        for j, e in enumerate(endmembers):\n",
    "            endmember_sig[j,i] = sum(endmembers[j]*f) # P x Q\n",
    "            \n",
    "    # Reshape the data array into 1d array\n",
    "    predicted = abundance_maps.amaps.NNLS(data_sig, endmember_sig) # (N*M x P)\n",
    "\n",
    "    # Take entropy between true abundance map and computed.\n",
    "    x = predicted\n",
    "    y = abundance_map.reshape((N*M,len(endmember_sig)))\n",
    "    # rescale this by a factor of 2\n",
    "    p = 0.5 * numpy.absolute(x - y)\n",
    "    acc = entropy([p,1-p], base=2)\n",
    "    accuracy = mean(sqrt(acc**2))\n",
    "    \n",
    "    if return_predicted:\n",
    "        return accuracy, predicted.reshape((N,M,P))\n",
    "    else:\n",
    "        return accuracy"
   ]
  },
  {
   "cell_type": "code",
   "execution_count": 43,
   "metadata": {},
   "outputs": [],
   "source": [
    "from scipy.fft import fft, ifft\n",
    "import numpy as np\n",
    "\n",
    "def compute_unmixing_accuracy_fourier(hypercube, abundance_map, endmembers, wavelength, center_wavelengths, bandwidths, return_predicted=False):\n",
    "    '''\n",
    "    Function to compute unmixing accuracy using NNLS spectral unmixing given a set of spectral band \n",
    "    center wavelengths and bandwidths. Assuming gaussian filter responses with a bandwidth defined\n",
    "    as the FWHM.\n",
    "    \n",
    "    Inputs:\n",
    "        hypercube (N X M x Q) - 3D synthetic hypercube.\n",
    "        \n",
    "        abundance_map (N x M x P)- 3D ground-truth abundance map of target. Each channel in L corresponds to the\n",
    "             abundance (between 0 and 1) of the spectral signature in the spectra array. \n",
    "        \n",
    "        endmembers (P x Q array) - Array of endmember signals to unmix.\n",
    "        \n",
    "        wavelength (1 x Q array) - Array describing the wavelength value corresponding to the spectral\n",
    "            response arrays.\n",
    "        \n",
    "        center_wavelengths (1 x L array) - Array or list of center wavelengths for Gaussian filter responses\n",
    "            to use for unmixing.\n",
    "        \n",
    "        bandwidths (1 x L array) - Array or list of bandwidths for Gaussian filter responses\n",
    "            to use for unmixing.\n",
    "        \n",
    "    Outputs:\n",
    "        accuracy (float) - RMS error of the unmixed abundance compared to the gruond truth\n",
    "        \n",
    "        predicted (optional N x M x P array) - Predicted abundance map of hypercube\n",
    "    '''\n",
    "    # Extract relevant dimensions\n",
    "    N,M,Q = hypercube.shape\n",
    "    \n",
    "    # Define filter responses\n",
    "    filters = [exp(-(wavelength - center_wavelengths[i])**2 / (2*(bandwidths[i]/2.355)**2)) for i in range(len(center_wavelengths))]\n",
    "    \n",
    "    P = len(endmembers)\n",
    "    L = len(filters)\n",
    "    \n",
    "    # Pre-allocate arrays\n",
    "    data_sig = zeros((N*M,L))\n",
    "    endmember_sig = zeros((P,L))\n",
    "    \n",
    "    # Iterate through each filter\n",
    "    for i,f in enumerate(filters):\n",
    "        # Compute the signal from each filter received from the data\n",
    "        # and that received from an endmember.\n",
    "        data_sig[:,i] = sum(hypercube.reshape((N*M,Q))*f,axis=1) # (N*M) x L\n",
    "        \n",
    "        for j, e in enumerate(endmembers):\n",
    "            endmember_sig[j,i] = sum(endmembers[j]*f) # P x Q\n",
    "            \n",
    "    # Reshape the data array into 1d array\n",
    "    predicted = abundance_maps.amaps.NNLS(data_sig, endmember_sig) # (N*M x P)\n",
    "\n",
    "    # Take entropy between true abundance map and computed.\n",
    "    x = predicted\n",
    "    y = abundance_map.reshape((N*M,len(endmember_sig)))\n",
    "    xf = fft(x)\n",
    "    yf = fft(y)\n",
    "\n",
    "    accuracy = sqrt(mean((np.real(yf-xf))**2))\n",
    "       \n",
    "    if return_predicted:\n",
    "        return accuracy, predicted.reshape((N,M,P))\n",
    "    else:\n",
    "        return accuracy"
   ]
  },
  {
   "cell_type": "code",
   "execution_count": 15,
   "metadata": {},
   "outputs": [],
   "source": [
    "from sklearn.metrics import accuracy_score\n",
    "\n",
    "def classification_score (a_map, pred_map):\n",
    "    N,M,P = a_map.shape\n",
    "\n",
    "    a_map = a_map.reshape((N*M,P))\n",
    "    \n",
    "    score = zeros((N*M))\n",
    "    S = zeros((P))\n",
    "    pred_map = pred_map.reshape((N*M,P))\n",
    "    y_true = zeros((N*M))\n",
    "    y_pred = zeros((N*M))\n",
    "\n",
    "    \n",
    "    for l in range (P):\n",
    "        nor = max(a_map[:,l])\n",
    "        nor2 = min(a_map[:,l])\n",
    "        c = 0.5*(nor+nor2)\n",
    "        \n",
    "        for k in range (N*M):\n",
    "            \n",
    "            y_true[k] = a_map[k,l]\n",
    "            y_pred[k] = pred_map[k,l]\n",
    "            y_true[k] = (y_true[k] > c)\n",
    "            y_pred[k] = (y_pred[k] > c)\n",
    "        S[l] = accuracy_score(y_true,y_pred)\n",
    "    \n",
    "    return S\n",
    "\n",
    "def compute_classification_acc(hypercube, abundance_map, endmembers, wavelength, center_wavelengths, bandwidths, return_predicted=False):\n",
    "    '''\n",
    "    Function to compute unmixing accuracy using NNLS spectral unmixing given a set of spectral band \n",
    "    center wavelengths and bandwidths. Assuming gaussian filter responses with a bandwidth defined\n",
    "    as the FWHM.\n",
    "    \n",
    "    Inputs:\n",
    "        hypercube (N X M x Q) - 3D synthetic hypercube.\n",
    "        \n",
    "        abundance_map (N x M x P)- 3D ground-truth abundance map of target. Each channel in L corresponds to the\n",
    "             abundance (between 0 and 1) of the spectral signature in the spectra array. \n",
    "        \n",
    "        endmembers (P x Q array) - Array of endmember signals to unmix.\n",
    "        \n",
    "        wavelength (1 x Q array) - Array describing the wavelength value corresponding to the spectral\n",
    "            response arrays.\n",
    "        \n",
    "        center_wavelengths (1 x L array) - Array or list of center wavelengths for Gaussian filter responses\n",
    "            to use for unmixing.\n",
    "        \n",
    "        bandwidths (1 x L array) - Array or list of bandwidths for Gaussian filter responses\n",
    "            to use for unmixing.\n",
    "        \n",
    "    Outputs:\n",
    "        accuracy (float) - RMS error of the unmixed abundance compared to the gruond truth\n",
    "        \n",
    "        predicted (optional N x M x P array) - Predicted abundance map of hypercube\n",
    "    '''\n",
    "    # Extract relevant dimensions\n",
    "    N,M,Q = hypercube.shape\n",
    "    \n",
    "    # Define filter responses\n",
    "    filters = [exp(-(wavelength - center_wavelengths[i])**2 / (2*(bandwidths[i]/2.355)**2)) for i in range(len(center_wavelengths))]\n",
    "    \n",
    "    P = len(endmembers)\n",
    "    L = len(filters)\n",
    "    \n",
    "    # Pre-allocate arrays\n",
    "    data_sig = zeros((N*M,L))\n",
    "    endmember_sig = zeros((P,L))\n",
    "    \n",
    "    # Iterate through each filter\n",
    "    for i,f in enumerate(filters):\n",
    "        # Compute the signal from each filter received from the data\n",
    "        # and that received from an endmember.\n",
    "        data_sig[:,i] = sum(hypercube.reshape((N*M,Q))*f,axis=1) # (N*M) x L\n",
    "        \n",
    "        for j, e in enumerate(endmembers):\n",
    "            endmember_sig[j,i] = sum(endmembers[j]*f) # P x Q\n",
    "            \n",
    "    # Reshape the data array into 1d array\n",
    "    predicted = abundance_maps.amaps.NNLS(data_sig, endmember_sig) # (N*M x P)\n",
    "    \n",
    "    predicted = predicted.reshape(N,M,P)\n",
    "\n",
    "    accuracy = classification_score (a_map, predicted)\n",
    "    \n",
    "    accuracy = -mean(accuracy)\n",
    "    \n",
    "    if not accuracy or isnan(accuracy):\n",
    "        return 100.\n",
    "    \n",
    "    if return_predicted:\n",
    "        return accuracy, predicted.reshape((N,M,P))\n",
    "    else:\n",
    "        return accuracy"
   ]
  },
  {
   "cell_type": "markdown",
   "metadata": {},
   "source": [
    "# Functions for spectral optimization"
   ]
  },
  {
   "cell_type": "code",
   "execution_count": 16,
   "metadata": {},
   "outputs": [],
   "source": [
    "def increment_position(hypercube,abundance_map, endmembers, wavelength, score, inc, pmax, pmin, score_function, bands, bws, i, j, verbose=False):\n",
    "    '''\n",
    "    Helper function to optimize the central wavelengths of spectral bands. Adjusts the center wavelength in one direction\n",
    "    and compares to the previous result.\n",
    "    '''\n",
    "    if bands[i,j] >= pmax:\n",
    "        bands[i,j] = pmax\n",
    "        if verbose:\n",
    "            print(\"Band location is at the maximum limit.\")\n",
    "        return score, bands, bws\n",
    "    elif bands[i,j] <= pmin:\n",
    "        bands[i,j] = pmin\n",
    "        if verbose:\n",
    "            print(\"Band location is at the minimum limit.\")\n",
    "        return score, bands, bws\n",
    "    else:\n",
    "        bands[i,j] += inc\n",
    "        new_score = score_function(hypercube,abundance_map, endmembers, wavelength, bands[i], bws[i])\n",
    "        if new_score < score:\n",
    "            if verbose:\n",
    "                print(\"Position adjustment resulted in previous score of %.3f improving to %.3f.\" %(score, new_score))\n",
    "            return increment_position(hypercube,abundance_map, endmembers, wavelength, new_score, inc, pmax, pmin, score_function, bands, bws, i, j,verbose=verbose)\n",
    "        else:\n",
    "            if verbose:\n",
    "                if inc < 0:\n",
    "                    print(\"Convergence reached for band position adjustment in negative direction.\")\n",
    "                else:\n",
    "                    print(\"Convergence reached for band position adjustment in positive direction.\")\n",
    "            bands[i,j] -= inc\n",
    "            return score, bands, bws\n",
    "        \n",
    "def increment_bandwidth(hypercube,abundance_map, endmembers, wavelength, score, inc, bmax, bmin, score_function, bands, bws, i, j,verbose=False):\n",
    "    '''\n",
    "    Helper function to optimize the bandwidths of spectral bands. Adjusts the bandwidth in one direction\n",
    "    and compares to the previous result.\n",
    "    '''\n",
    "    if bws[i,j] >= bmax:\n",
    "        bws[i,j] = bmax\n",
    "        if verbose:\n",
    "            print(\"Bandwidth is at the maximum limit.\")\n",
    "        return score, bands, bws\n",
    "    elif bws[i,j] <= bmin:\n",
    "        bws[i,j] = bmin\n",
    "        if verbose:\n",
    "            print(\"Bandwidth is at the minimum limit.\")\n",
    "        return score, bands, bws\n",
    "    else:\n",
    "        bws[i,j] += inc\n",
    "        new_score = score_function(hypercube,abundance_map, endmembers, wavelength, bands, bws[i])\n",
    "        if new_score < score:\n",
    "            if verbose:\n",
    "                print(\"Bandwidth adjustment resulted in previous score of %.3f improving to %.3f.\" %(score, new_score))\n",
    "            return increment_bandwidth(new_score, inc, bmax, bmin, score_function, bands, bws, i, j,verbose=verbose)\n",
    "        else:\n",
    "            if verbose:\n",
    "                if inc < 0:\n",
    "                    print(\"Convergence reached for bandwidth adjustment in negative direction.\")\n",
    "                else:\n",
    "                    print(\"Convergence reached for bandwidth adjustment in positive direction.\")\n",
    "            bws[i,j] -= inc\n",
    "            return score, bands, bws\n",
    "\n",
    "def refine_position(hypercube,abundance_map,endmembers,wavelength, bands, bws, maxiter=20,score_function=compute_unmixing_accuracy,pstep=2,verbose=False):\n",
    "    '''\n",
    "    Helper function to optimize the central wavelengths of spectral bands. This function effectively conducts a gradient\n",
    "    descent optimization to adjust the center wavelength until a local minimum is reached.\n",
    "    '''\n",
    "    old_ps = zeros_like(bands) # Empty array to track changes\n",
    "    n = 0 # index of iterations\n",
    "\n",
    "    # First, iterate through positions\n",
    "    while any(old_ps != bands) and n < maxiter:\n",
    "        old_ps = bands.copy()\n",
    "        n += 1\n",
    "        if verbose:\n",
    "            print(\"Performing position refinement iteration number %d.\" %n)\n",
    "                    \n",
    "        for i, band in enumerate(bands):\n",
    "            score = score_function(hypercube,abundance_map, endmembers, wavelength, band, bws[i])\n",
    "\n",
    "            for j, p in enumerate(band):\n",
    "                if verbose:\n",
    "                    print(\"Refining position of band %.1f nm. Beginning score of %.3f.\" % (p,score))\n",
    "                score, bands, bws = increment_position(hypercube,abundance_map, endmembers, wavelength,score, pstep, p+30, p-30, score_function, bands, bws, i ,j,verbose=verbose)\n",
    "                score, bands, bws = increment_position(hypercube,abundance_map, endmembers, wavelength, score, -1*pstep, p+30, p-30, score_function, bands, bws, i, j,verbose=verbose)\n",
    "\n",
    "    if verbose:\n",
    "        print(\"Final band locations for this loop are \",bands)\n",
    "\n",
    "    return bands, bws,score\n",
    "\n",
    "        \n",
    "def refine_bandwidth(hypercube,abundance_map,endmembers,wavelength, bands, bws , maxiter=20,score_function=compute_unmixing_accuracy,bstep=2,bw_max=50.,bw_min=20.,verbose=False):              \n",
    "    '''\n",
    "    Helper function to optimize the bandwidth of spectral bands. This function effectively conducts a gradient\n",
    "    descent optimization to adjust the bandwidth until a local minimum is reached.\n",
    "    '''\n",
    "    old_bws = zeros_like(bws) # empty array to track changes\n",
    "    n = 0 # index of iterations\n",
    "            \n",
    "    # Now, through bandwidths\n",
    "    while any(old_bws != bws) and n < maxiter:\n",
    "        old_bws = bws.copy()\n",
    "        n += 1\n",
    "        if verbose:\n",
    "            print(\"Performing bandwidth refinement iteration number %d.\" %n)\n",
    "        for i, band in enumerate(bands):\n",
    "                   \n",
    "            score = score_function(hypercube,abundance_map, endmembers, wavelength, band, bws[i])\n",
    "            for j, z in enumerate(band):\n",
    "                if verbose:\n",
    "                    print(\"Refining bandwidth of band %.1f nm. Beginning score of %.3f.\" % (z, score))\n",
    "                score, bands, bws  = increment_bandwidth(hypercube,abundance_map, endmembers, wavelength, score, bstep, bw_max, bw_min, score_function, bands, bws, i, j,verbose=verbose)\n",
    "                score, bands, bws  = increment_bandwidth(hypercube,abundance_map, endmembers, wavelength, score, -1*bstep, bw_max, bw_min, score_function, bands, bws, i, j,verbose=verbose) # lazy way to check both directions\n",
    "                \n",
    "    if verbose:\n",
    "        print(\"Final bandwidths for this loop are \",bws)\n",
    "    return bands, bws,score"
   ]
  },
  {
   "cell_type": "code",
   "execution_count": 17,
   "metadata": {},
   "outputs": [],
   "source": [
    "def compute_unmixing_accuracy_scale_back(hypercube, abundance_map, endmembers, wavelength, center_wavelengths, bandwidths, return_predicted=False):\n",
    "    '''\n",
    "    Function to compute unmixing accuracy using NNLS spectral unmixing given a set of spectral band \n",
    "    center wavelengths and bandwidths. Assuming gaussian filter responses with a bandwidth defined\n",
    "    as the FWHM.\n",
    "    \n",
    "    Inputs:\n",
    "        hypercube (N X M x Q) - 3D synthetic hypercube.\n",
    "        \n",
    "        abundance_map (N x M x P)- 3D ground-truth abundance map of target. Each channel in L corresponds to the\n",
    "             abundance (between 0 and 1) of the spectral signature in the spectra array. \n",
    "        \n",
    "        endmembers (P x Q array) - Array of endmember signals to unmix.\n",
    "        \n",
    "        wavelength (1 x Q array) - Array describing the wavelength value corresponding to the spectral\n",
    "            response arrays.\n",
    "        \n",
    "        center_wavelengths (1 x L array) - Array or list of center wavelengths for Gaussian filter responses\n",
    "            to use for unmixing.\n",
    "        \n",
    "        bandwidths (1 x L array) - Array or list of bandwidths for Gaussian filter responses\n",
    "            to use for unmixing.\n",
    "        \n",
    "    Outputs:\n",
    "        accuracy (float) - RMS error of the unmixed abundance compared to the gruond truth\n",
    "        \n",
    "        predicted (optional N x M x P array) - Predicted abundance map of hypercube\n",
    "    '''\n",
    "    # Extract relevant dimensions\n",
    "    N,M,Q = hypercube.shape\n",
    "    \n",
    "    # Define filter responses\n",
    "    filters = [exp(-(wavelength - center_wavelengths[i])**2 / (2*(bandwidths[i]/2.355)**2)) for i in range(len(center_wavelengths))]\n",
    "    \n",
    "    P = len(endmembers)\n",
    "    L = len(filters)\n",
    "    \n",
    "    # Pre-allocate arrays\n",
    "    data_sig = zeros((N*M,L))\n",
    "    endmember_sig = zeros((P,L))\n",
    "    \n",
    "    \n",
    "    # Iterate through each filter\n",
    "    for i,f in enumerate(filters):\n",
    "        # Compute the signal from each filter received from the data\n",
    "        # and that received from an endmember.\n",
    "        data_sig[:,i] = sum(hypercube.reshape((N*M,Q))*f,axis=1) # (N*M) x L\n",
    "        for j, e in enumerate(endmembers):\n",
    "            endmember_sig[j,i] = sum(endmembers[j]*f) # P x Q\n",
    "\n",
    "            \n",
    "    # Reshape the data array into 1d array\n",
    "    predicted = abundance_maps.amaps.NNLS(data_sig, endmember_sig) # (N*M x P)\n",
    "\n",
    "    # Take RMS difference between true abundance map and computed.\n",
    "    accuracy = sqrt(mean((abundance_map.reshape((N*M,len(endmember_sig)))-predicted)**2))\n",
    "    \n",
    "    if not accuracy or isnan(accuracy):\n",
    "        return 100.\n",
    "    \n",
    "    if return_predicted:\n",
    "        return accuracy, predicted.reshape((N,M,P))\n",
    "    else:\n",
    "        return accuracy"
   ]
  },
  {
   "cell_type": "code",
   "execution_count": 18,
   "metadata": {},
   "outputs": [],
   "source": [
    "def optimize_spectral_bands(hypercube, abundance_map, endmembers, wavelength, N_filters, bw_max=50., bw_min=10., bstep=2., pstep=2.,random_sampling=False, n_iter=500, loops=10,merit_function=\"unmixing\",verbose=False):\n",
    "        '''\n",
    "        Optimize the spectral band position and bandwidth. Begins by stochastically sampling the \n",
    "        space of possible options. The top 5 results are then retained and a gradient descent\n",
    "        approach is taken to convergene on the optimal result. The function returns the best \n",
    "        result, along with the merit function score.\n",
    "\n",
    "        Inputs:\n",
    "            hypercube (N X M x Q array) - 3D synthetic hypercube.\n",
    "\n",
    "            abundance_map (N x M x P array)- 3D abundance map of target. Each channel in L corresponds to the\n",
    "                 abundance (between 0 and 1) of the spectral signature in the spectra array. \n",
    "\n",
    "            endmembers (P x Q array) - Array of endmember signals to unmix.\n",
    "\n",
    "            wavelength (1 x Q array) - Array describing the wavelength value corresponding to the spectral\n",
    "                response arrays.\n",
    "                \n",
    "            N_filters (int): Maximum number of spectral bands. (currently fixed)\n",
    "\n",
    "            bw_max (optional float, default=50): Maximum allowable bandwidth in nanometers for a spectral band.\n",
    "\n",
    "            bw_min (optional float, default=5): Minimum allowable bandwidth in nanometers for a spectral band.\n",
    "\n",
    "            bstep (optional float, default=2): Step-size in nanometers to take when optimzing spectral bands.\n",
    "\n",
    "            random_sampling (optional Boolean, default=False)\n",
    "\n",
    "            n_iter (optional int, default=10000): Number of iterations for the stochastic sampling step.\n",
    "            \n",
    "            loops (optinal int, default=10): Number of gradient descent optimization loops.\n",
    "\n",
    "            merit_function (optional string, default=\"unmixing\"): Merit function to use in\n",
    "                the optimization. The options are:\n",
    "                   'unmixing': Spectral unmixing accuracy. Minimizes the root-sum-squared difference\n",
    "                       between the true endmember abundance and that obtained by NNLS unmixing.\n",
    "\n",
    "            verbose (optional boolean, default=False): Print out relevant information\n",
    "              as optimization proceeds. TODO: Set verbosity levels of 0-4 for different amounts\n",
    "              of output information.\n",
    "\n",
    "        Returns:\n",
    "            center_wavelengths (1 x N_filters array) - Array describing center wavelengths of optimal\n",
    "                filter set.\n",
    "            \n",
    "            bandwidths (1 x N_filters array) - Array describing bandwidths of optimal\n",
    "                filter set.\n",
    "        '''\n",
    "        # Initial bandwidth will be halfway between max and min\n",
    "        bw_init = (bw_max - bw_min)/2.\n",
    "        \n",
    "        # Generate empty arrays for stochastic optimization step.\n",
    "        band_list = zeros((n_iter,N_filters))\n",
    "        dist_list = zeros(n_iter)\n",
    "\n",
    "        # TODO: Implement other merit functions\n",
    "        if merit_function == \"entropy_gussian\":\n",
    "            score_function = compute_unmixing_accuracy_entropy_first_option\n",
    "            print('entropy_sigma')\n",
    "        elif merit_function == \"reconstraction\":\n",
    "            score_function = compute_hypercube_accuracy\n",
    "            print('\"reconstraction\"')\n",
    "        elif merit_function == \"weighted\":\n",
    "            score_function = compute_unmixing_weighted_accuracy\n",
    "            print('\"weighted\"')\n",
    "        elif merit_function == \"entropy_linear\":\n",
    "            score_function = compute_unmixing_accuracy_entropy_second_option\n",
    "            print('entropy_linear')\n",
    "        elif merit_function == \"DFT_unmixing\":\n",
    "            score_function = compute_unmixing_accuracy_fourier\n",
    "            print('DFT')\n",
    "        elif merit_function == \"DFT_hypercube_reconstruction\":\n",
    "            score_function = compute_hypercube_reconstruction_accuracy_DFT\n",
    "            print('DFT_hypercube_reconstruction')\n",
    "        elif merit_function == \"compute_hypercube_reconstruction_accuracy_SAM\":\n",
    "            score_function = compute_hypercube_reconstruction_accuracy_SAM\n",
    "            print('compute_hypercube_reconstruction_accuracy_SAM')  \n",
    "        elif merit_function == \"compute_hypercube_reconstruction_accuracy_RMSE\":\n",
    "            score_function = compute_hypercube_reconstruction_accuracy_RMSE\n",
    "            print('compute_hypercube_reconstruction_accuracy_RMSE')   \n",
    "        elif merit_function == \"compute_classification_acc\":\n",
    "            score_function = compute_classification_acc\n",
    "            print('compute_classification_acc')   \n",
    "            \n",
    "        else :\n",
    "            score_function = compute_unmixing_accuracy\n",
    "            print('rms')\n",
    "            \n",
    "            \n",
    "        if random_sampling == True:\n",
    "            if verbose:\n",
    "                print(\"Beginning stochastic optimization of band position with %d iterations.\" %n_iter)\n",
    "            for i in range(n_iter):\n",
    "                if verbose and not i % 100:\n",
    "                    print(\"Stochastic optimization iteration %d.\" %i)\n",
    "                # Generate the random sampling of spectral bands over wavelegnth range\n",
    "                sbands = randsamp(range(int(wavelength[0]),int(wavelength[-1]), int(bw_init*2)), N_filters)\n",
    "\n",
    "                dist = score_function(hypercube,abundance_map, endmembers, wavelength, sbands, ones(N_filters)*bw_init)\n",
    "                dist_list[i] = dist\n",
    "                band_list[i,:] = sbands\n",
    "\n",
    "            # Sort according to accuracy\n",
    "            dist_sorted = dist_list[dist_list.argsort()]\n",
    "            bands_sorted = band_list[dist_list.argsort()]\n",
    "\n",
    "            bands = bands_sorted[:5] # take top 5\n",
    "            bws = ones_like(bands)*bw_init\n",
    "            print(bands)\n",
    "            \n",
    "            if verbose:\n",
    "                print(\"Stochastic optimization complete. Initializing gradient descent with top 5 candidates.\")\n",
    "                print(bands)\n",
    "        else:\n",
    "            # Evenly space the array\n",
    "            if verbose:\n",
    "                print(\"Initializing with evenly spaced band array.\")\n",
    "            bands = linspace(wavelength[0]+bw_init*2,wavelength[-1]-bw_init*2,N_filters).reshape(1,N_filters)\n",
    "            bws = ones_like(bands)*bw_init\n",
    "                \n",
    "        if verbose:\n",
    "            print(\"Beginning gradient-based optimization of bandwidth.\")\n",
    "            \n",
    "        for k in range(loops):\n",
    "            if verbose:\n",
    "                print(\"Performing iteration loop %d of %d.\" %(k, loops))\n",
    "            bands, bws,acc = refine_position(hypercube,abundance_map,endmembers,wavelength,bands, bws, score_function=score_function, pstep=2.,verbose=verbose)\n",
    "            bands, bws,acc = refine_bandwidth(hypercube,abundance_map,endmembers,wavelength,bands, bws,score_function=score_function, bw_max=50., bw_min=20., bstep=2.,verbose=verbose)\n",
    "            print(acc)\n",
    "            \n",
    "            \"\"\"\n",
    "            if acc < 0.0001:\n",
    "                return bands, bws\n",
    "            else:\n",
    "                lower_limit = wavelength[0]\n",
    "                upper_limit = wavelength[-1]\n",
    "\n",
    "                for sets in bands:\n",
    "                    for number in sets:\n",
    "                        if number < lower_limit:\n",
    "                            print('one filter reach lower limit, careful')\n",
    "                            # restart the loop\n",
    "                            bands = bands_sorted[5:10]\n",
    "                            print('restart at ',bands)\n",
    "                            k = k-1\n",
    "                            if k < -1:\n",
    "                                print('failed')\n",
    "                                return bands, bws\n",
    "                                \n",
    "\n",
    "                        elif number > upper_limit:\n",
    "                            print('one filter reach upper limit, careful')\n",
    "                            # restart the loop\n",
    "                            bands_sorted[5:10]\n",
    "                            print('restart at ',bands)\n",
    "                            k = k-1\n",
    "                            if k < -1:\n",
    "                                print('failed')\n",
    "                                return bands, bws\n",
    "                        else:\n",
    "                            k = k \n",
    "                            \"\"\"\n",
    "            print('running ',k, 'th loop')\n",
    "\n",
    "        \n",
    "        return bands, bws,acc"
   ]
  },
  {
   "cell_type": "markdown",
   "metadata": {},
   "source": [
    "# Running the optimization loops"
   ]
  },
  {
   "cell_type": "markdown",
   "metadata": {},
   "source": [
    "# SAM_hypercube_reconstruction"
   ]
  },
  {
   "cell_type": "code",
   "execution_count": 48,
   "metadata": {},
   "outputs": [
    {
     "name": "stdout",
     "output_type": "stream",
     "text": [
      "compute_hypercube_reconstruction_accuracy_SAM\n"
     ]
    },
    {
     "name": "stderr",
     "output_type": "stream",
     "text": [
      "/opt/anaconda3/lib/python3.8/site-packages/numpy/core/numeric.py:909: RuntimeWarning: invalid value encountered in multiply\n",
      "  return multiply(a.ravel()[:, newaxis], b.ravel()[newaxis, :], out)\n"
     ]
    },
    {
     "name": "stdout",
     "output_type": "stream",
     "text": [
      "[[700. 660. 620. 740.]\n",
      " [700. 340. 780. 620.]\n",
      " [620. 660. 300. 780.]\n",
      " [900. 660. 740. 780.]\n",
      " [740. 660. 300. 780.]]\n",
      "0.8897746032440024\n",
      "running  0 th loop\n",
      "0.8897746032440024\n",
      "running  1 th loop\n",
      "0.8897746032440024\n",
      "running  2 th loop\n",
      "0.8897746032440024\n",
      "running  3 th loop\n",
      "0.8897746032440024\n",
      "running  4 th loop\n",
      "time cost(in seconds) 16.898154973983765\n"
     ]
    }
   ],
   "source": [
    "start = time.time()\n",
    "bands_SAM,bws_SAM,acc_SAM = optimize_spectral_bands(hypercube,a_map,spectra,wavelength,4,verbose=False,loops=5,merit_function=\"compute_hypercube_reconstruction_accuracy_SAM\",random_sampling=True)\n",
    "\n",
    "end = time.time()\n",
    "print('time cost(in seconds)',end-start)"
   ]
  },
  {
   "cell_type": "code",
   "execution_count": 49,
   "metadata": {},
   "outputs": [
    {
     "data": {
      "text/plain": [
       "array([[718., 670., 630., 768.],\n",
       "       [718., 340., 784., 640.],\n",
       "       [630., 682., 300., 792.],\n",
       "       [896., 666., 720., 788.],\n",
       "       [720., 668., 300., 790.]])"
      ]
     },
     "execution_count": 49,
     "metadata": {},
     "output_type": "execute_result"
    }
   ],
   "source": [
    "bands_SAM"
   ]
  },
  {
   "cell_type": "code",
   "execution_count": 50,
   "metadata": {},
   "outputs": [],
   "source": [
    "center_wavelengths = bands_SAM[0].tolist()\n",
    "bandwidths = bws_SAM[0].tolist()"
   ]
  },
  {
   "cell_type": "code",
   "execution_count": 51,
   "metadata": {},
   "outputs": [
    {
     "data": {
      "text/plain": [
       "[20.0, 20.0, 20.0, 20.0]"
      ]
     },
     "execution_count": 51,
     "metadata": {},
     "output_type": "execute_result"
    }
   ],
   "source": [
    "bandwidths"
   ]
  },
  {
   "cell_type": "code",
   "execution_count": 52,
   "metadata": {},
   "outputs": [
    {
     "data": {
      "text/plain": [
       "[718.0, 670.0, 630.0, 768.0]"
      ]
     },
     "execution_count": 52,
     "metadata": {},
     "output_type": "execute_result"
    }
   ],
   "source": [
    "center_wavelengths"
   ]
  },
  {
   "cell_type": "code",
   "execution_count": 53,
   "metadata": {},
   "outputs": [],
   "source": [
    "acc_SAM = compute_unmixing_accuracy(hypercube, a_map, spectra, wavelength, center_wavelengths, bandwidths,return_predicted=False)"
   ]
  },
  {
   "cell_type": "code",
   "execution_count": 54,
   "metadata": {},
   "outputs": [
    {
     "data": {
      "text/plain": [
       "0.0992753898491193"
      ]
     },
     "execution_count": 54,
     "metadata": {},
     "output_type": "execute_result"
    }
   ],
   "source": [
    "acc_SAM"
   ]
  },
  {
   "cell_type": "markdown",
   "metadata": {},
   "source": [
    "# DFT_hypercube_reconstruction"
   ]
  },
  {
   "cell_type": "code",
   "execution_count": 55,
   "metadata": {},
   "outputs": [
    {
     "name": "stdout",
     "output_type": "stream",
     "text": [
      "DFT_hypercube_reconstruction\n",
      "[[340. 500. 460. 980.]\n",
      " [980. 380. 300. 500.]\n",
      " [980. 380. 340. 300.]\n",
      " [980. 300. 540. 380.]\n",
      " [420. 500. 540. 980.]]\n",
      "100.0\n",
      "running  0 th loop\n",
      "100.0\n",
      "running  1 th loop\n",
      "100.0\n",
      "running  2 th loop\n",
      "100.0\n",
      "running  3 th loop\n",
      "100.0\n",
      "running  4 th loop\n",
      "time cost(in seconds) 11.032418727874756\n"
     ]
    }
   ],
   "source": [
    "start = time.time()\n",
    "bands_dft,bws_dft,acc_dft = optimize_spectral_bands(hypercube,a_map,spectra,wavelength,4,verbose=False,loops=5,merit_function=\"DFT_hypercube_reconstruction\",random_sampling=True)\n",
    "\n",
    "end = time.time()\n",
    "print('time cost(in seconds)',end-start)"
   ]
  },
  {
   "cell_type": "code",
   "execution_count": 57,
   "metadata": {},
   "outputs": [
    {
     "data": {
      "text/plain": [
       "array([[340., 500., 460., 980.],\n",
       "       [980., 380., 300., 500.],\n",
       "       [980., 380., 340., 300.],\n",
       "       [980., 300., 540., 380.],\n",
       "       [420., 500., 540., 980.]])"
      ]
     },
     "execution_count": 57,
     "metadata": {},
     "output_type": "execute_result"
    }
   ],
   "source": [
    "bands_dft"
   ]
  },
  {
   "cell_type": "code",
   "execution_count": 59,
   "metadata": {},
   "outputs": [],
   "source": [
    "center_wavelengths = bands_dft[0].tolist()\n",
    "bandwidths = bws_dft[0].tolist()"
   ]
  },
  {
   "cell_type": "code",
   "execution_count": 60,
   "metadata": {},
   "outputs": [
    {
     "data": {
      "text/plain": [
       "[20.0, 20.0, 20.0, 20.0]"
      ]
     },
     "execution_count": 60,
     "metadata": {},
     "output_type": "execute_result"
    }
   ],
   "source": [
    "bandwidths"
   ]
  },
  {
   "cell_type": "code",
   "execution_count": 61,
   "metadata": {},
   "outputs": [
    {
     "data": {
      "text/plain": [
       "[340.0, 500.0, 460.0, 980.0]"
      ]
     },
     "execution_count": 61,
     "metadata": {},
     "output_type": "execute_result"
    }
   ],
   "source": [
    "center_wavelengths"
   ]
  },
  {
   "cell_type": "code",
   "execution_count": 62,
   "metadata": {},
   "outputs": [],
   "source": [
    "acc_DFT = compute_unmixing_accuracy(hypercube, a_map, spectra, wavelength, center_wavelengths, bandwidths,return_predicted=False)"
   ]
  },
  {
   "cell_type": "code",
   "execution_count": 63,
   "metadata": {},
   "outputs": [
    {
     "data": {
      "text/plain": [
       "inf"
      ]
     },
     "execution_count": 63,
     "metadata": {},
     "output_type": "execute_result"
    }
   ],
   "source": [
    "acc_DFT"
   ]
  },
  {
   "cell_type": "markdown",
   "metadata": {},
   "source": [
    "# RMSE"
   ]
  },
  {
   "cell_type": "code",
   "execution_count": 90,
   "metadata": {},
   "outputs": [
    {
     "name": "stdout",
     "output_type": "stream",
     "text": [
      "rms\n",
      "[[620. 660. 780. 700.]\n",
      " [700. 820. 660. 620.]\n",
      " [740. 620. 820. 700.]\n",
      " [620. 780. 500. 660.]\n",
      " [540. 660. 620. 780.]]\n",
      "0.30395534208900193\n",
      "running  0 th loop\n",
      "0.30395534208900193\n",
      "running  1 th loop\n",
      "0.30395534208900193\n",
      "running  2 th loop\n",
      "0.30395534208900193\n",
      "running  3 th loop\n",
      "0.30395534208900193\n",
      "running  4 th loop\n",
      "time cost(in seconds) 11.519100189208984\n"
     ]
    }
   ],
   "source": [
    "start = time.time()\n",
    "bands,bws,acc = optimize_spectral_bands(hypercube,a_map,spectra,wavelength,4,verbose=False,loops=5,merit_function=\"rms\",random_sampling=True)\n",
    "\n",
    "end = time.time()\n",
    "print('time cost(in seconds)',end-start)"
   ]
  },
  {
   "cell_type": "code",
   "execution_count": 91,
   "metadata": {},
   "outputs": [
    {
     "data": {
      "text/plain": [
       "array([[632., 670., 776., 718.],\n",
       "       [718., 776., 670., 632.],\n",
       "       [718., 632., 776., 670.],\n",
       "       [632., 782., 500., 664.],\n",
       "       [532., 664., 632., 782.]])"
      ]
     },
     "execution_count": 91,
     "metadata": {},
     "output_type": "execute_result"
    }
   ],
   "source": [
    "bands"
   ]
  },
  {
   "cell_type": "code",
   "execution_count": 98,
   "metadata": {},
   "outputs": [],
   "source": [
    "center_wavelengths = bands[0].tolist()\n",
    "bandwidths = bws[0].tolist()"
   ]
  },
  {
   "cell_type": "code",
   "execution_count": 99,
   "metadata": {},
   "outputs": [
    {
     "data": {
      "text/plain": [
       "[20.0, 20.0, 20.0, 20.0]"
      ]
     },
     "execution_count": 99,
     "metadata": {},
     "output_type": "execute_result"
    }
   ],
   "source": [
    "bandwidths"
   ]
  },
  {
   "cell_type": "code",
   "execution_count": 100,
   "metadata": {},
   "outputs": [
    {
     "data": {
      "text/plain": [
       "[632.0, 670.0, 776.0, 718.0]"
      ]
     },
     "execution_count": 100,
     "metadata": {},
     "output_type": "execute_result"
    }
   ],
   "source": [
    "center_wavelengths"
   ]
  },
  {
   "cell_type": "code",
   "execution_count": 101,
   "metadata": {},
   "outputs": [
    {
     "data": {
      "text/plain": [
       "0.30395534208900193"
      ]
     },
     "execution_count": 101,
     "metadata": {},
     "output_type": "execute_result"
    }
   ],
   "source": []
  },
  {
   "cell_type": "code",
   "execution_count": 102,
   "metadata": {},
   "outputs": [
    {
     "data": {
      "text/plain": [
       "0.09779534160420926"
      ]
     },
     "execution_count": 102,
     "metadata": {},
     "output_type": "execute_result"
    }
   ],
   "source": [
    "compute_unmixing_accuracy(hypercube, a_map, spectra, wavelength, center_wavelengths, bandwidths,return_predicted=False)"
   ]
  },
  {
   "cell_type": "markdown",
   "metadata": {},
   "source": [
    "# Entropy"
   ]
  },
  {
   "cell_type": "code",
   "execution_count": 76,
   "metadata": {},
   "outputs": [
    {
     "name": "stdout",
     "output_type": "stream",
     "text": [
      "entropy_linear\n"
     ]
    },
    {
     "name": "stderr",
     "output_type": "stream",
     "text": [
      "/opt/anaconda3/lib/python3.8/site-packages/scipy/stats/_distn_infrastructure.py:2686: RuntimeWarning: divide by zero encountered in true_divide\n",
      "  pk = 1.0*pk / np.sum(pk, axis=axis, keepdims=True)\n",
      "/opt/anaconda3/lib/python3.8/site-packages/numpy/core/fromnumeric.py:87: RuntimeWarning: invalid value encountered in reduce\n",
      "  return ufunc.reduce(obj, axis, dtype, out, **passkwargs)\n"
     ]
    },
    {
     "name": "stdout",
     "output_type": "stream",
     "text": [
      "[[780. 740. 620. 660.]\n",
      " [780. 620. 700. 740.]\n",
      " [500. 660. 940. 620.]\n",
      " [300. 620. 660. 540.]\n",
      " [620. 780. 460. 660.]]\n",
      "0.31889117495403524\n",
      "running  0 th loop\n",
      "0.31889117495403524\n",
      "running  1 th loop\n",
      "0.31889117495403524\n",
      "running  2 th loop\n",
      "0.31889117495403524\n",
      "running  3 th loop\n",
      "0.31889117495403524\n",
      "running  4 th loop\n",
      "time cost(in seconds) 11.942339897155762\n"
     ]
    }
   ],
   "source": [
    "start = time.time()\n",
    "bands,bws,acc = optimize_spectral_bands(hypercube,a_map,spectra,wavelength,4,verbose=False,loops=5,merit_function=\"entropy_linear\",random_sampling=True)\n",
    "\n",
    "end = time.time()\n",
    "print('time cost(in seconds)',end-start)"
   ]
  },
  {
   "cell_type": "code",
   "execution_count": 77,
   "metadata": {},
   "outputs": [
    {
     "data": {
      "text/plain": [
       "array([[776., 718., 634., 670.],\n",
       "       [774., 656., 692., 716.],\n",
       "       [500., 644., 940., 618.],\n",
       "       [300., 634., 664., 534.],\n",
       "       [634., 780., 460., 664.]])"
      ]
     },
     "execution_count": 77,
     "metadata": {},
     "output_type": "execute_result"
    }
   ],
   "source": [
    "bands"
   ]
  },
  {
   "cell_type": "code",
   "execution_count": 78,
   "metadata": {},
   "outputs": [],
   "source": [
    "center_wavelengths = bands[0].tolist()\n",
    "bandwidths = bws[0].tolist()"
   ]
  },
  {
   "cell_type": "code",
   "execution_count": 79,
   "metadata": {},
   "outputs": [
    {
     "data": {
      "text/plain": [
       "[20.0, 20.0, 20.0, 20.0]"
      ]
     },
     "execution_count": 79,
     "metadata": {},
     "output_type": "execute_result"
    }
   ],
   "source": [
    "bandwidths"
   ]
  },
  {
   "cell_type": "code",
   "execution_count": 80,
   "metadata": {},
   "outputs": [
    {
     "data": {
      "text/plain": [
       "[776.0, 718.0, 634.0, 670.0]"
      ]
     },
     "execution_count": 80,
     "metadata": {},
     "output_type": "execute_result"
    }
   ],
   "source": [
    "center_wavelengths"
   ]
  },
  {
   "cell_type": "code",
   "execution_count": 81,
   "metadata": {},
   "outputs": [],
   "source": [
    "acc = compute_unmixing_accuracy(hypercube, a_map, spectra, wavelength, center_wavelengths, bandwidths,return_predicted=False)"
   ]
  },
  {
   "cell_type": "code",
   "execution_count": 82,
   "metadata": {},
   "outputs": [
    {
     "data": {
      "text/plain": [
       "0.0978410160564006"
      ]
     },
     "execution_count": 82,
     "metadata": {},
     "output_type": "execute_result"
    }
   ],
   "source": [
    "acc"
   ]
  },
  {
   "cell_type": "markdown",
   "metadata": {},
   "source": [
    "# Classification acc"
   ]
  },
  {
   "cell_type": "code",
   "execution_count": 19,
   "metadata": {},
   "outputs": [
    {
     "name": "stdout",
     "output_type": "stream",
     "text": [
      "compute_classification_acc\n",
      "[[620. 740. 540. 780.]\n",
      " [780. 420. 660. 620.]\n",
      " [780. 660. 740. 420.]\n",
      " [620. 820. 780. 740.]\n",
      " [740. 780. 500. 660.]]\n",
      "-0.92\n",
      "running  0 th loop\n",
      "-0.92\n",
      "running  1 th loop\n",
      "-0.92\n",
      "running  2 th loop\n",
      "-0.92\n",
      "running  3 th loop\n",
      "-0.92\n",
      "running  4 th loop\n",
      "time cost(in seconds) 11.460083961486816\n"
     ]
    }
   ],
   "source": [
    "start = time.time()\n",
    "bands,bws,acc = optimize_spectral_bands(hypercube,a_map,spectra,wavelength,4,verbose=False,loops=5,merit_function=\"compute_classification_acc\",random_sampling=True)\n",
    "\n",
    "end = time.time()\n",
    "print('time cost(in seconds)',end-start)"
   ]
  },
  {
   "cell_type": "code",
   "execution_count": 20,
   "metadata": {},
   "outputs": [
    {
     "data": {
      "text/plain": [
       "array([[620., 740., 540., 780.],\n",
       "       [780., 420., 660., 620.],\n",
       "       [780., 660., 740., 420.],\n",
       "       [620., 820., 780., 740.],\n",
       "       [740., 780., 500., 660.]])"
      ]
     },
     "execution_count": 20,
     "metadata": {},
     "output_type": "execute_result"
    }
   ],
   "source": [
    "bands"
   ]
  },
  {
   "cell_type": "code",
   "execution_count": 21,
   "metadata": {},
   "outputs": [],
   "source": [
    "center_wavelengths = bands[0].tolist()\n",
    "bandwidths = bws[0].tolist()"
   ]
  },
  {
   "cell_type": "code",
   "execution_count": 22,
   "metadata": {},
   "outputs": [
    {
     "data": {
      "text/plain": [
       "[20.0, 20.0, 20.0, 20.0]"
      ]
     },
     "execution_count": 22,
     "metadata": {},
     "output_type": "execute_result"
    }
   ],
   "source": [
    "bandwidths"
   ]
  },
  {
   "cell_type": "code",
   "execution_count": 23,
   "metadata": {},
   "outputs": [
    {
     "data": {
      "text/plain": [
       "[620.0, 740.0, 540.0, 780.0]"
      ]
     },
     "execution_count": 23,
     "metadata": {},
     "output_type": "execute_result"
    }
   ],
   "source": [
    "center_wavelengths"
   ]
  },
  {
   "cell_type": "code",
   "execution_count": 24,
   "metadata": {},
   "outputs": [],
   "source": [
    "acc = compute_unmixing_accuracy(hypercube, a_map, spectra, wavelength, center_wavelengths, bandwidths,return_predicted=False)"
   ]
  },
  {
   "cell_type": "code",
   "execution_count": 25,
   "metadata": {},
   "outputs": [
    {
     "data": {
      "text/plain": [
       "0.39145056154059343"
      ]
     },
     "execution_count": 25,
     "metadata": {},
     "output_type": "execute_result"
    }
   ],
   "source": [
    "acc"
   ]
  },
  {
   "cell_type": "code",
   "execution_count": null,
   "metadata": {},
   "outputs": [],
   "source": [
    "\n"
   ]
  },
  {
   "cell_type": "code",
   "execution_count": null,
   "metadata": {},
   "outputs": [],
   "source": []
  }
 ],
 "metadata": {
  "kernelspec": {
   "display_name": "Python 3",
   "language": "python",
   "name": "python3"
  },
  "language_info": {
   "codemirror_mode": {
    "name": "ipython",
    "version": 3
   },
   "file_extension": ".py",
   "mimetype": "text/x-python",
   "name": "python",
   "nbconvert_exporter": "python",
   "pygments_lexer": "ipython3",
   "version": "3.8.5"
  }
 },
 "nbformat": 4,
 "nbformat_minor": 4
}
