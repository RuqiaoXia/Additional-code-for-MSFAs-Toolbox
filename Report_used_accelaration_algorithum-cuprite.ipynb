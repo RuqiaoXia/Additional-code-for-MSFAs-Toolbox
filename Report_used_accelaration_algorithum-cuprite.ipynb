{
 "cells": [
  {
   "cell_type": "markdown",
   "metadata": {},
   "source": [
    "# Week 8 Acceleration algorithm /. Parameter selection"
   ]
  },
  {
   "cell_type": "markdown",
   "metadata": {},
   "source": [
    "#  Loading data"
   ]
  },
  {
   "cell_type": "code",
   "execution_count": 1,
   "metadata": {},
   "outputs": [
    {
     "name": "stdout",
     "output_type": "stream",
     "text": [
      "Populating the interactive namespace from numpy and matplotlib\n"
     ]
    }
   ],
   "source": [
    "%pylab inline\n",
    "from pysptools import abundance_maps\n",
    "import random\n",
    "import pandas as pd\n",
    "import urllib\n",
    "import itertools\n",
    "from scipy.io import loadmat\n",
    "from scipy.signal import convolve2d"
   ]
  },
  {
   "cell_type": "code",
   "execution_count": 2,
   "metadata": {},
   "outputs": [],
   "source": [
    "dataset = \"cuprite\"\n",
    "\n",
    "d = loadmat(\"../input/reference-datasets/\" + dataset + \"/\" + dataset + \".mat\")\n",
    "em = loadmat(\"../input/reference-datasets/\" + dataset + \"/endmembers/endmembers.mat\")\n",
    "dinfo = pd.read_csv(\"../input/reference-datasets/\" + dataset + \"/info.csv\",header=None,index_col=None,names=[\"parameter\",'value','unit'])\n",
    "\n",
    "nrow = int(dinfo[dinfo['parameter'] == 'nrow'].value.values[0])\n",
    "ncol = int(dinfo[dinfo['parameter'] == 'ncol'].value.values[0])\n",
    "\n",
    "nbands = int(dinfo[dinfo['parameter'] == 'nbands'].value.values[0])\n",
    "spec_start = dinfo[dinfo['parameter'] == 'spec_start'].value.values[0]\n",
    "spec_end = dinfo[dinfo['parameter'] == 'spec_end'].value.values[0]\n",
    "\n",
    "data = d['Y']\n",
    "data = data / data.max()\n",
    "try:\n",
    "    spec_bands = d['SlectBands'].flatten()\n",
    "except:\n",
    "    spec_bands = arange(0,nbands)\n",
    "\n",
    "# Define wavelength array\n",
    "wavelength = linspace(spec_start,spec_end,nbands)\n",
    "wavelength = wavelength[spec_bands]\n",
    "\n",
    "if len(em['M']) > len(wavelength):\n",
    "    endmembers = em['M'][spec_bands]\n",
    "else:\n",
    "    endmembers = em['M']\n",
    "\n",
    "endmembers = endmembers.reshape(len(wavelength),-1)\n",
    "\n",
    "a_map = em[\"A\"].reshape((endmembers.shape[1],nrow,ncol)).T\n",
    "\n",
    "hypercube = data.copy()\n",
    "spectra = endmembers.T\n",
    "hypercube = hypercube.reshape(len(wavelength), a_map.shape[1], a_map.shape[0]).T\n",
    "\n"
   ]
  },
  {
   "cell_type": "markdown",
   "metadata": {},
   "source": [
    "# Give the prediected unmixing reslut"
   ]
  },
  {
   "cell_type": "code",
   "execution_count": 3,
   "metadata": {},
   "outputs": [],
   "source": [
    "def compute_unmixing_accuracy(hypercube, abundance_map, endmembers, wavelength, center_wavelengths, bandwidths, return_predicted=False):\n",
    "    '''\n",
    "    Function to compute unmixing accuracy using NNLS spectral unmixing given a set of spectral band \n",
    "    center wavelengths and bandwidths. Assuming gaussian filter responses with a bandwidth defined\n",
    "    as the FWHM.\n",
    "    \n",
    "    Inputs:\n",
    "        hypercube (N X M x Q) - 3D synthetic hypercube.\n",
    "        \n",
    "        abundance_map (N x M x P)- 3D ground-truth abundance map of target. Each channel in L corresponds to the\n",
    "             abundance (between 0 and 1) of the spectral signature in the spectra array. \n",
    "        \n",
    "        endmembers (P x Q array) - Array of endmember signals to unmix.\n",
    "        \n",
    "        wavelength (1 x Q array) - Array describing the wavelength value corresponding to the spectral\n",
    "            response arrays.\n",
    "        \n",
    "        center_wavelengths (1 x L array) - Array or list of center wavelengths for Gaussian filter responses\n",
    "            to use for unmixing.\n",
    "        \n",
    "        bandwidths (1 x L array) - Array or list of bandwidths for Gaussian filter responses\n",
    "            to use for unmixing.\n",
    "        \n",
    "    Outputs:\n",
    "        accuracy (float) - RMS error of the unmixed abundance compared to the gruond truth\n",
    "        \n",
    "        predicted (optional N x M x P array) - Predicted abundance map of hypercube\n",
    "    '''\n",
    "    # Extract relevant dimensions\n",
    "    N,M,Q = hypercube.shape\n",
    "    \n",
    "    # Define filter responses\n",
    "    filters = [exp(-(wavelength - center_wavelengths[i])**2 / (2*(bandwidths[i]/2.355)**2)) for i in range(len(center_wavelengths))]\n",
    "    \n",
    "    P = len(endmembers)\n",
    "    L = len(filters)\n",
    "    \n",
    "    # Pre-allocate arrays\n",
    "    data_sig = zeros((N*M,L))\n",
    "    endmember_sig = zeros((P,L))\n",
    "    \n",
    "    # Iterate through each filter\n",
    "    for i,f in enumerate(filters):\n",
    "        # Compute the signal from each filter received from the data\n",
    "        # and that received from an endmember.\n",
    "        data_sig[:,i] = sum(hypercube.reshape((N*M,Q))*f,axis=1) # (N*M) x L\n",
    "        \n",
    "        for j, e in enumerate(endmembers):\n",
    "            endmember_sig[j,i] = sum(endmembers[j]*f) # P x Q\n",
    "            \n",
    "    # Reshape the data array into 1d array\n",
    "    predicted = abundance_maps.amaps.NNLS(data_sig, endmember_sig) # (N*M x P)\n",
    "\n",
    "    # Take RMS difference between true abundance map and computed.\n",
    "    accuracy = sqrt(mean((abundance_map.reshape((N*M,len(endmember_sig)))-predicted)**2))\n",
    "    \n",
    "    print('acc = ',accuracy)\n",
    "    if not accuracy or isnan(accuracy):\n",
    "        return 100.\n",
    "    \n",
    "    if return_predicted:\n",
    "        return accuracy, predicted.reshape((N,M,P))\n",
    "    else:\n",
    "        return accuracy"
   ]
  },
  {
   "cell_type": "markdown",
   "metadata": {},
   "source": [
    "# Using the original hypercube to unmix"
   ]
  },
  {
   "cell_type": "markdown",
   "metadata": {},
   "source": [
    "# Using the color img after optimal filters set to unmix"
   ]
  },
  {
   "cell_type": "code",
   "execution_count": 4,
   "metadata": {},
   "outputs": [],
   "source": [
    "opti_wavelength =  [1970., 1414. , 504., 2048., 1726.  ,856., 2384. , 698.  ,770.  ,372., 1090., 1766.]\n",
    "opti_bw =  [20. ,20., 20. ,20., 20. ,20. ,20. ,20., 20., 20., 20., 20.]"
   ]
  },
  {
   "cell_type": "markdown",
   "metadata": {},
   "source": [
    "# Check Noise ratio"
   ]
  },
  {
   "cell_type": "code",
   "execution_count": 7,
   "metadata": {},
   "outputs": [],
   "source": [
    "def create_sythentic_hypercube(a_map, spectra, wavelength):\n",
    " \n",
    "    '''\n",
    "    Encodes a 2d image with spectral data to generate a synthetic hypercube.\n",
    "    \n",
    "    Inputs:\n",
    "        a_map (N x M x L array) - 3D abundance map of target. Each channel in L corresponds to the\n",
    "             abundance (between 0 and 1) of the spectral signature in the spectra array. \n",
    "             \n",
    "        spectra (L x Q array) - Array of 1D spectral respones for each pixel. Number of array members\n",
    "            should be equal to the maximum value in im (L). Q is sample points in wavelength space.\n",
    "            \n",
    "        wavelength (1 x Q array) - Array describing the wavelength value corresponding to the spectral\n",
    "            response arrays.\n",
    "    \n",
    "    Output:\n",
    "        hypercube (N X M x Q) - 3D synthetic hypercube.\n",
    "        \n",
    "        wavelength (1 x Q array) - Array describing the wavelength value corresponding to the spectral\n",
    "            dimension of the hypercube.\n",
    "    '''\n",
    "\n",
    "    N,M,_ = a_map.shape\n",
    "    L,Q = spectra.shape\n",
    "\n",
    "    hypercube = zeros((N,M,Q))\n",
    "    \n",
    "    for i in range(L):\n",
    "        hypercube += outer(a_map[:,:,i],spectra[i]).reshape((N,M,Q))\n",
    "\n",
    "    return hypercube"
   ]
  },
  {
   "cell_type": "code",
   "execution_count": 8,
   "metadata": {},
   "outputs": [],
   "source": [
    "diff = hypercube - create_sythentic_hypercube(a_map, spectra, wavelength)"
   ]
  },
  {
   "cell_type": "code",
   "execution_count": 9,
   "metadata": {},
   "outputs": [
    {
     "data": {
      "text/plain": [
       "0.02687883716429609"
      ]
     },
     "execution_count": 9,
     "metadata": {},
     "output_type": "execute_result"
    }
   ],
   "source": [
    "sqrt(mean(diff**2))"
   ]
  },
  {
   "cell_type": "markdown",
   "metadata": {},
   "source": [
    "# Mean removal algorithm"
   ]
  },
  {
   "cell_type": "markdown",
   "metadata": {},
   "source": [
    "Samiliar to normalization, it has been done in our ref data set allready"
   ]
  },
  {
   "cell_type": "code",
   "execution_count": 10,
   "metadata": {},
   "outputs": [],
   "source": [
    "c = sqrt(mean(hypercube**2))"
   ]
  },
  {
   "cell_type": "code",
   "execution_count": 11,
   "metadata": {},
   "outputs": [
    {
     "data": {
      "text/plain": [
       "0.061679618458697696"
      ]
     },
     "execution_count": 11,
     "metadata": {},
     "output_type": "execute_result"
    }
   ],
   "source": [
    "c"
   ]
  },
  {
   "cell_type": "code",
   "execution_count": 12,
   "metadata": {},
   "outputs": [],
   "source": [
    "hypercube = hypercube/c"
   ]
  },
  {
   "cell_type": "code",
   "execution_count": 13,
   "metadata": {},
   "outputs": [
    {
     "data": {
      "text/plain": [
       "0.9999999999999997"
      ]
     },
     "execution_count": 13,
     "metadata": {},
     "output_type": "execute_result"
    }
   ],
   "source": [
    "sqrt(mean(hypercube**2))"
   ]
  },
  {
   "cell_type": "code",
   "execution_count": 14,
   "metadata": {},
   "outputs": [],
   "source": [
    "hypercube_sub = hypercube[100:150,100:150]\n",
    "a_map_sub = a_map[100:150,100:150]\n",
    "\n",
    "N,M,P = hypercube_sub.shape"
   ]
  },
  {
   "cell_type": "code",
   "execution_count": 15,
   "metadata": {},
   "outputs": [
    {
     "data": {
      "text/plain": [
       "[<matplotlib.lines.Line2D at 0x7fe011a724c0>]"
      ]
     },
     "execution_count": 15,
     "metadata": {},
     "output_type": "execute_result"
    },
    {
     "data": {
      "image/png": "[encoded data removed]",
      "text/plain": [
       "<Figure size 432x288 with 1 Axes>"
      ]
     },
     "metadata": {
      "needs_background": "light"
     },
     "output_type": "display_data"
    }
   ],
   "source": [
    "plt.plot(wavelength,hypercube_sub[10,10])"
   ]
  },
  {
   "cell_type": "code",
   "execution_count": 16,
   "metadata": {},
   "outputs": [
    {
     "data": {
      "text/plain": [
       "<matplotlib.image.AxesImage at 0x7fe00598c790>"
      ]
     },
     "execution_count": 16,
     "metadata": {},
     "output_type": "execute_result"
    },
    {
     "data": {
      "image/png": "[encoded data removed]",
      "text/plain": [
       "<Figure size 432x288 with 1 Axes>"
      ]
     },
     "metadata": {
      "needs_background": "light"
     },
     "output_type": "display_data"
    }
   ],
   "source": [
    "imshow(hypercube_sub [:,:,100])"
   ]
  },
  {
   "cell_type": "markdown",
   "metadata": {},
   "source": [
    "# Now, take Sobel operator to detect discontinuities in the gradient"
   ]
  },
  {
   "cell_type": "markdown",
   "metadata": {},
   "source": [
    "Too heavy computational work, crop it "
   ]
  },
  {
   "cell_type": "code",
   "execution_count": 17,
   "metadata": {},
   "outputs": [],
   "source": [
    "def sobel(img, threshold):\n",
    "    '''\n",
    "    edge detection based on sobel\n",
    "    threshold (0,1)\n",
    "    '''\n",
    "    G_x = np.array([[-1, 0, 1],[-2, 0, 2],[-1, 0, 1]])\n",
    "    G_y = np.array([[-1, -2, -1],[0, 0, 0],[1, 2, 1]])\n",
    "    rows = np.size(img, 0)\n",
    "    columns = np.size(img, 1)\n",
    "    mag = np.zeros(img.shape)\n",
    "    for i in range(0, rows - 2):\n",
    "        for j in range(0, columns - 2):\n",
    "            v = sum(sum(G_x * img[i:i+3, j:j+3]))  # vertical\n",
    "            h = sum(sum(G_y * img[i:i+3, j:j+3]))  # horizon\n",
    "            mag[i+1, j+1] = np.sqrt((v ** 2) + (h ** 2))\n",
    "            \n",
    "    for p in range(0, rows):\n",
    "        for q in range(0, columns):\n",
    "            if mag[p, q] < threshold:\n",
    "                mag[p, q] = 1\n",
    "    return mag"
   ]
  },
  {
   "cell_type": "code",
   "execution_count": 22,
   "metadata": {},
   "outputs": [],
   "source": [
    "sober_img = np.zeros(hypercube_sub.shape)\n",
    "\n",
    "for i in range(hypercube.shape[2]):\n",
    "    sober_img[:,:,i] = sobel(hypercube_sub[:,:,i], 0.4)"
   ]
  },
  {
   "cell_type": "code",
   "execution_count": 23,
   "metadata": {},
   "outputs": [
    {
     "data": {
      "text/plain": [
       "<matplotlib.image.AxesImage at 0x7fe0060c3670>"
      ]
     },
     "execution_count": 23,
     "metadata": {},
     "output_type": "execute_result"
    },
    {
     "data": {
      "image/png": "[encoded data removed]",
      "text/plain": [
       "<Figure size 432x288 with 1 Axes>"
      ]
     },
     "metadata": {
      "needs_background": "light"
     },
     "output_type": "display_data"
    }
   ],
   "source": [
    "imshow(sober_img [:,:,100])"
   ]
  },
  {
   "cell_type": "markdown",
   "metadata": {},
   "source": [
    "# dirty tiles"
   ]
  },
  {
   "cell_type": "code",
   "execution_count": 24,
   "metadata": {},
   "outputs": [],
   "source": [
    "def tiles (img, t, u):\n",
    "    '''\n",
    "    t = tile_size\n",
    "    u: percentage_of_edge_pixels\n",
    "    '''\n",
    "    rows = np.size(img, 0)\n",
    "    columns = np.size(img, 1)\n",
    "    mag = np.zeros(img.shape)\n",
    "    sub_area = np.zeros((t,t))      \n",
    "    for p in range(0, rows):\n",
    "        for q in range(0, columns):\n",
    "            sub_area = img[p:p+t,q:q+t]\n",
    "            area_sum = sum(sub_area)\n",
    "            if area_sum > t*t*u:\n",
    "                mag[p, q] = 1\n",
    "    return mag"
   ]
  },
  {
   "cell_type": "code",
   "execution_count": 25,
   "metadata": {},
   "outputs": [],
   "source": [
    "tiles_img = np.zeros(hypercube_sub.shape)\n",
    "\n",
    "for i in range(hypercube.shape[2]):\n",
    "    tiles_img[:,:,i] = tiles(sober_img[:,:,i],2,1)"
   ]
  },
  {
   "cell_type": "code",
   "execution_count": 26,
   "metadata": {},
   "outputs": [
    {
     "data": {
      "text/plain": [
       "<matplotlib.image.AxesImage at 0x7fdff8c333d0>"
      ]
     },
     "execution_count": 26,
     "metadata": {},
     "output_type": "execute_result"
    },
    {
     "data": {
      "image/png": "[encoded data removed]",
      "text/plain": [
       "<Figure size 432x288 with 1 Axes>"
      ]
     },
     "metadata": {
      "needs_background": "light"
     },
     "output_type": "display_data"
    }
   ],
   "source": [
    "imshow(tiles_img [:,:,100])"
   ]
  },
  {
   "cell_type": "code",
   "execution_count": null,
   "metadata": {},
   "outputs": [],
   "source": [
    "plt.rcParams['figure.figsize'] = [5,5]\n",
    "\n",
    "figure(1)\n",
    "imshow(sober_img [:,:,100])\n",
    "title('sober')\n",
    "\n",
    "figure(2)\n",
    "imshow(tiles_img [:,:,100])\n",
    "title('dirty tiles')\n",
    "\n",
    "figure(3)\n",
    "imshow(hypercube_sub [:,:,100])\n",
    "title('hypercube')\n"
   ]
  },
  {
   "cell_type": "markdown",
   "metadata": {},
   "source": [
    "# Now use the pre-procesing hypercube to get the unmixing result "
   ]
  },
  {
   "cell_type": "code",
   "execution_count": 27,
   "metadata": {},
   "outputs": [],
   "source": [
    "predicted_origin = abundance_maps.amaps.NNLS(hypercube_sub.reshape(N*M,P), spectra) # (N*M x P)\n",
    "accuracy_origin = sqrt(mean((a_map_sub.reshape((N*M,len(spectra)))-predicted_origin)**2))\n",
    "\n",
    "predicted_sober = abundance_maps.amaps.NNLS(sober_img.reshape(N*M,P), spectra) # (N*M x P)\n",
    "accuracy_sober = sqrt(mean((a_map_sub.reshape((N*M,len(spectra)))-predicted_sober)**2))\n",
    "\n",
    "\n",
    "predicted_tiles = abundance_maps.amaps.NNLS(tiles_img.reshape(N*M,P), spectra) # (N*M x P)\n",
    "accuracy_tiles = sqrt(mean((a_map_sub.reshape((N*M,len(spectra)))-predicted_tiles)**2))"
   ]
  },
  {
   "cell_type": "code",
   "execution_count": 28,
   "metadata": {},
   "outputs": [
    {
     "name": "stdout",
     "output_type": "stream",
     "text": [
      "0.2962620423189117 0.38834201124269013 0.09281586919085719\n"
     ]
    }
   ],
   "source": [
    "print(accuracy_origin,accuracy_sober,accuracy_tiles)"
   ]
  },
  {
   "cell_type": "code",
   "execution_count": 29,
   "metadata": {},
   "outputs": [],
   "source": [
    "import time"
   ]
  },
  {
   "cell_type": "code",
   "execution_count": 30,
   "metadata": {},
   "outputs": [
    {
     "name": "stdout",
     "output_type": "stream",
     "text": [
      "acc =  0.30548806947473756\n",
      "0.0749821662902832\n"
     ]
    }
   ],
   "source": [
    "start = time.time()\n",
    "acc1,map1 = compute_unmixing_accuracy(hypercube_sub, a_map_sub, spectra, wavelength, opti_wavelength, opti_bw, return_predicted=True)\n",
    "end = time.time()\n",
    "print(end-start)"
   ]
  },
  {
   "cell_type": "markdown",
   "metadata": {},
   "source": [
    "Using sober hypercube into filter image to unmxix"
   ]
  },
  {
   "cell_type": "code",
   "execution_count": 31,
   "metadata": {
    "scrolled": true
   },
   "outputs": [
    {
     "name": "stdout",
     "output_type": "stream",
     "text": [
      "acc =  0.3623994067890455\n",
      "0.05184483528137207\n"
     ]
    }
   ],
   "source": [
    "start = time.time()\n",
    "acc2,map2 = compute_unmixing_accuracy(sober_img, a_map_sub, spectra, wavelength, opti_wavelength, opti_bw, return_predicted=True)\n",
    "end = time.time()\n",
    "print(end-start)"
   ]
  },
  {
   "cell_type": "markdown",
   "metadata": {},
   "source": [
    "Using tiles hypercube into filter image to unmxix"
   ]
  },
  {
   "cell_type": "code",
   "execution_count": 32,
   "metadata": {},
   "outputs": [
    {
     "name": "stdout",
     "output_type": "stream",
     "text": [
      "acc =  0.08714786911079143\n",
      "0.04587888717651367\n"
     ]
    }
   ],
   "source": [
    "start = time.time()\n",
    "acc3,map3 = compute_unmixing_accuracy(tiles_img, a_map_sub, spectra, wavelength, opti_wavelength, opti_bw, return_predicted=True)\n",
    "end = time.time()\n",
    "print(end-start)"
   ]
  },
  {
   "cell_type": "code",
   "execution_count": null,
   "metadata": {},
   "outputs": [],
   "source": []
  }
 ],
 "metadata": {
  "kernelspec": {
   "display_name": "Python 3",
   "language": "python",
   "name": "python3"
  },
  "language_info": {
   "codemirror_mode": {
    "name": "ipython",
    "version": 3
   },
   "file_extension": ".py",
   "mimetype": "text/x-python",
   "name": "python",
   "nbconvert_exporter": "python",
   "pygments_lexer": "ipython3",
   "version": "3.8.5"
  }
 },
 "nbformat": 4,
 "nbformat_minor": 4
}
