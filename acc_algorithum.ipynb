{
 "cells": [
  {
   "cell_type": "code",
   "execution_count": null,
   "metadata": {},
   "outputs": [],
   "source": [
    "c = sqrt(mean(hypercube**2))\n",
    "hypercube = hypercube/c\n",
    "\n",
    "\n",
    "def sobel(img, threshold):\n",
    "    '''\n",
    "    edge detection based on sobel\n",
    "    threshold (0,1)\n",
    "    '''\n",
    "    G_x = np.array([[-1, 0, 1],[-2, 0, 2],[-1, 0, 1]])\n",
    "    G_y = np.array([[-1, -2, -1],[0, 0, 0],[1, 2, 1]])\n",
    "    rows = np.size(img, 0)\n",
    "    columns = np.size(img, 1)\n",
    "    mag = np.zeros(img.shape)\n",
    "    for i in range(0, rows - 2):\n",
    "        for j in range(0, columns - 2):\n",
    "            v = sum(sum(G_x * img[i:i+3, j:j+3]))  # vertical\n",
    "            h = sum(sum(G_y * img[i:i+3, j:j+3]))  # horizon\n",
    "            mag[i+1, j+1] = np.sqrt((v ** 2) + (h ** 2))\n",
    "            \n",
    "    for p in range(0, rows):\n",
    "        for q in range(0, columns):\n",
    "            if mag[p, q] < threshold:\n",
    "                mag[p, q] = 1\n",
    "    return mag\n",
    "\n",
    "sober_img = np.zeros(hypercube.shape)\n",
    "\n",
    "for i in range(hypercube.shape[2]):\n",
    "    sober_img[:,:,i] = sobel(hypercube[:,:,i], 0.4)\n",
    "    \n",
    "    \n",
    "def tiles (img, t, u):\n",
    "    '''\n",
    "    t = tile_size\n",
    "    u: percentage_of_edge_pixels\n",
    "    '''\n",
    "    rows = np.size(img, 0)\n",
    "    columns = np.size(img, 1)\n",
    "    mag = np.zeros(img.shape)\n",
    "    sub_area = np.zeros((t,t))      \n",
    "    for p in range(0, rows):\n",
    "        for q in range(0, columns):\n",
    "            sub_area = img[p:p+t,q:q+t]\n",
    "            area_sum = sum(sub_area)\n",
    "            if area_sum > t*t*u:\n",
    "                mag[p, q] = 1\n",
    "    return mag\n",
    "\n",
    "tiles_img = np.zeros(hypercube.shape)\n",
    "\n",
    "for i in range(hypercube.shape[2]):\n",
    "    tiles_img[:,:,i] = tiles(sober_img[:,:,i],2,1)"
   ]
  }
 ],
 "metadata": {
  "kernelspec": {
   "display_name": "Python 3",
   "language": "python",
   "name": "python3"
  },
  "language_info": {
   "codemirror_mode": {
    "name": "ipython",
    "version": 3
   },
   "file_extension": ".py",
   "mimetype": "text/x-python",
   "name": "python",
   "nbconvert_exporter": "python",
   "pygments_lexer": "ipython3",
   "version": "3.8.5"
  }
 },
 "nbformat": 4,
 "nbformat_minor": 4
}
